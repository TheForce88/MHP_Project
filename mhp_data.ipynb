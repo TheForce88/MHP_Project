{
 "cells": [
  {
   "cell_type": "markdown",
   "metadata": {},
   "source": [
    "Load Packages"
   ]
  },
  {
   "cell_type": "code",
   "execution_count": 92,
   "metadata": {
    "collapsed": false,
    "scrolled": true
   },
   "outputs": [
    {
     "name": "stdout",
     "output_type": "stream",
     "text": [
      "Populating the interactive namespace from numpy and matplotlib\n"
     ]
    }
   ],
   "source": [
    "import pandas as pd\n",
    "import numpy as np\n",
    "import seaborn as sns\n",
    "%pylab inline\n",
    "\n",
    "import sklearn as sk\n",
    "import sklearn.tree as tree\n",
    "from IPython.display import Image  \n",
    "import pydotplus"
   ]
  },
  {
   "cell_type": "code",
   "execution_count": 3,
   "metadata": {
    "collapsed": true
   },
   "outputs": [],
   "source": [
    "ccars = pd.read_csv('CCARs.csv')\n",
    "services = pd.read_csv('Services.csv')"
   ]
  },
  {
   "cell_type": "code",
   "execution_count": 4,
   "metadata": {
    "collapsed": false
   },
   "outputs": [
    {
     "data": {
      "text/html": [
       "<div>\n",
       "<table border=\"1\" class=\"dataframe\">\n",
       "  <thead>\n",
       "    <tr style=\"text-align: right;\">\n",
       "      <th></th>\n",
       "      <th>CLIENT_ID</th>\n",
       "      <th>CCAR_TYPE</th>\n",
       "      <th>CCAR_DATE</th>\n",
       "      <th>HOUSING</th>\n",
       "      <th>LEVEL_OF_FUNCTIONING</th>\n",
       "      <th>SYMPTOM_SEVERITY</th>\n",
       "      <th>HOPE</th>\n",
       "    </tr>\n",
       "  </thead>\n",
       "  <tbody>\n",
       "    <tr>\n",
       "      <th>0</th>\n",
       "      <td>4A8998A4966913</td>\n",
       "      <td>NaN</td>\n",
       "      <td>4/15/2015</td>\n",
       "      <td>15</td>\n",
       "      <td>3</td>\n",
       "      <td>3</td>\n",
       "      <td>1</td>\n",
       "    </tr>\n",
       "    <tr>\n",
       "      <th>1</th>\n",
       "      <td>A628826A899812</td>\n",
       "      <td>NaN</td>\n",
       "      <td>4/15/2015</td>\n",
       "      <td>12</td>\n",
       "      <td>6</td>\n",
       "      <td>6</td>\n",
       "      <td>6</td>\n",
       "    </tr>\n",
       "    <tr>\n",
       "      <th>2</th>\n",
       "      <td>44277244933913</td>\n",
       "      <td>NaN</td>\n",
       "      <td>4/15/2015</td>\n",
       "      <td>14</td>\n",
       "      <td>5</td>\n",
       "      <td>5</td>\n",
       "      <td>2</td>\n",
       "    </tr>\n",
       "    <tr>\n",
       "      <th>3</th>\n",
       "      <td>A153351A411412</td>\n",
       "      <td>NaN</td>\n",
       "      <td>4/15/2015</td>\n",
       "      <td>15</td>\n",
       "      <td>3</td>\n",
       "      <td>6</td>\n",
       "      <td>2</td>\n",
       "    </tr>\n",
       "    <tr>\n",
       "      <th>4</th>\n",
       "      <td>22655622722713</td>\n",
       "      <td>1.0</td>\n",
       "      <td>4/15/2015</td>\n",
       "      <td>15</td>\n",
       "      <td>3</td>\n",
       "      <td>3</td>\n",
       "      <td>3</td>\n",
       "    </tr>\n",
       "  </tbody>\n",
       "</table>\n",
       "</div>"
      ],
      "text/plain": [
       "        CLIENT_ID  CCAR_TYPE  CCAR_DATE  HOUSING  LEVEL_OF_FUNCTIONING  \\\n",
       "0  4A8998A4966913        NaN  4/15/2015       15                     3   \n",
       "1  A628826A899812        NaN  4/15/2015       12                     6   \n",
       "2  44277244933913        NaN  4/15/2015       14                     5   \n",
       "3  A153351A411412        NaN  4/15/2015       15                     3   \n",
       "4  22655622722713        1.0  4/15/2015       15                     3   \n",
       "\n",
       "   SYMPTOM_SEVERITY  HOPE  \n",
       "0                 3     1  \n",
       "1                 6     6  \n",
       "2                 5     2  \n",
       "3                 6     2  \n",
       "4                 3     3  "
      ]
     },
     "execution_count": 4,
     "metadata": {},
     "output_type": "execute_result"
    }
   ],
   "source": [
    "ccars.head()"
   ]
  },
  {
   "cell_type": "code",
   "execution_count": 5,
   "metadata": {
    "collapsed": false
   },
   "outputs": [
    {
     "data": {
      "text/html": [
       "<div>\n",
       "<table border=\"1\" class=\"dataframe\">\n",
       "  <thead>\n",
       "    <tr style=\"text-align: right;\">\n",
       "      <th></th>\n",
       "      <th>CLIENT_ID</th>\n",
       "      <th>MBR_AGE</th>\n",
       "      <th>MBR_GENDER</th>\n",
       "      <th>MBR_PRIMARY_LANGUAGE</th>\n",
       "      <th>MBR_ZIPCODE</th>\n",
       "      <th>MEDICAID_ELIG_CAT</th>\n",
       "      <th>SERVICE_DATE</th>\n",
       "      <th>SERVICE_CODE</th>\n",
       "      <th>SERV_CODE_DESCRP</th>\n",
       "      <th>DIAGNOSIS</th>\n",
       "      <th>...</th>\n",
       "      <th>SERVICE_TYPE</th>\n",
       "      <th>SERVICE_DURATION</th>\n",
       "      <th>ADMISSION_DATE</th>\n",
       "      <th>DISCHARGE_DATE</th>\n",
       "      <th>PROVIDER</th>\n",
       "      <th>PRV_TYP_DESC</th>\n",
       "      <th>PROV_CREDENTIALS</th>\n",
       "      <th>PROV_ZIPCODE</th>\n",
       "      <th>PROV_FLAG</th>\n",
       "      <th>SOURCE</th>\n",
       "    </tr>\n",
       "  </thead>\n",
       "  <tbody>\n",
       "    <tr>\n",
       "      <th>0</th>\n",
       "      <td>69266296A66A31</td>\n",
       "      <td>40</td>\n",
       "      <td>Male</td>\n",
       "      <td>ENGLISH</td>\n",
       "      <td>80304</td>\n",
       "      <td>DISABLED</td>\n",
       "      <td>1/1/2015</td>\n",
       "      <td>H0018</td>\n",
       "      <td>Behavioral health; short-term residential (non...</td>\n",
       "      <td>Other Schizoaffective Disorders</td>\n",
       "      <td>...</td>\n",
       "      <td>ATU</td>\n",
       "      <td>1260</td>\n",
       "      <td></td>\n",
       "      <td></td>\n",
       "      <td>MENTAL HEALTH PARTNERS</td>\n",
       "      <td>COMMUNITY MENTAL HEALTH CENTER OR PUB HLTH AGENCY</td>\n",
       "      <td>CAC III</td>\n",
       "      <td>80304</td>\n",
       "      <td>MHP CMHC</td>\n",
       "      <td>Encounter</td>\n",
       "    </tr>\n",
       "    <tr>\n",
       "      <th>1</th>\n",
       "      <td>58777785A44A11</td>\n",
       "      <td>28</td>\n",
       "      <td>Male</td>\n",
       "      <td>ENGLISH</td>\n",
       "      <td>80302</td>\n",
       "      <td>DISABLED</td>\n",
       "      <td>1/1/2015</td>\n",
       "      <td>H0018</td>\n",
       "      <td>Behavioral health; short-term residential (non...</td>\n",
       "      <td>Other Schizoaffective Disorders</td>\n",
       "      <td>...</td>\n",
       "      <td>ATU</td>\n",
       "      <td>360</td>\n",
       "      <td></td>\n",
       "      <td></td>\n",
       "      <td>MENTAL HEALTH PARTNERS</td>\n",
       "      <td>COMMUNITY MENTAL HEALTH CENTER OR PUB HLTH AGENCY</td>\n",
       "      <td>CAC III</td>\n",
       "      <td>80304</td>\n",
       "      <td>MHP CMHC</td>\n",
       "      <td>Encounter</td>\n",
       "    </tr>\n",
       "    <tr>\n",
       "      <th>2</th>\n",
       "      <td>87855878244282</td>\n",
       "      <td>20</td>\n",
       "      <td>Female</td>\n",
       "      <td>ENGLISH</td>\n",
       "      <td>80504</td>\n",
       "      <td>DISABLED</td>\n",
       "      <td>1/1/2015</td>\n",
       "      <td>H0018</td>\n",
       "      <td>Behavioral health; short-term residential (non...</td>\n",
       "      <td>Other Schizoaffective Disorders</td>\n",
       "      <td>...</td>\n",
       "      <td>ATU</td>\n",
       "      <td>1310</td>\n",
       "      <td></td>\n",
       "      <td></td>\n",
       "      <td>MENTAL HEALTH PARTNERS</td>\n",
       "      <td>COMMUNITY MENTAL HEALTH CENTER OR PUB HLTH AGENCY</td>\n",
       "      <td>CAC III</td>\n",
       "      <td>80304</td>\n",
       "      <td>MHP CMHC</td>\n",
       "      <td>Encounter</td>\n",
       "    </tr>\n",
       "    <tr>\n",
       "      <th>3</th>\n",
       "      <td>49A88A94244201</td>\n",
       "      <td>36</td>\n",
       "      <td>Male</td>\n",
       "      <td>ENGLISH</td>\n",
       "      <td>80304</td>\n",
       "      <td>DISABLED</td>\n",
       "      <td>1/1/2015</td>\n",
       "      <td>H0018</td>\n",
       "      <td>Behavioral health; short-term residential (non...</td>\n",
       "      <td>Schizophrenia, Unspecified</td>\n",
       "      <td>...</td>\n",
       "      <td>ATU</td>\n",
       "      <td>1440</td>\n",
       "      <td></td>\n",
       "      <td></td>\n",
       "      <td>MENTAL HEALTH PARTNERS</td>\n",
       "      <td>COMMUNITY MENTAL HEALTH CENTER OR PUB HLTH AGENCY</td>\n",
       "      <td>CAC III</td>\n",
       "      <td>80304</td>\n",
       "      <td>MHP CMHC</td>\n",
       "      <td>Encounter</td>\n",
       "    </tr>\n",
       "    <tr>\n",
       "      <th>4</th>\n",
       "      <td>7A8778A7799771</td>\n",
       "      <td>45</td>\n",
       "      <td>Female</td>\n",
       "      <td>ENGLISH</td>\n",
       "      <td>80302</td>\n",
       "      <td>DISABLED</td>\n",
       "      <td>1/1/2015</td>\n",
       "      <td>H0018</td>\n",
       "      <td>Behavioral health; short-term residential (non...</td>\n",
       "      <td>Schizophrenia, Unspecified</td>\n",
       "      <td>...</td>\n",
       "      <td>ATU</td>\n",
       "      <td>1080</td>\n",
       "      <td></td>\n",
       "      <td></td>\n",
       "      <td>MENTAL HEALTH PARTNERS</td>\n",
       "      <td>COMMUNITY MENTAL HEALTH CENTER OR PUB HLTH AGENCY</td>\n",
       "      <td>CAC III</td>\n",
       "      <td>80304</td>\n",
       "      <td>MHP CMHC</td>\n",
       "      <td>Encounter</td>\n",
       "    </tr>\n",
       "  </tbody>\n",
       "</table>\n",
       "<p>5 rows × 23 columns</p>\n",
       "</div>"
      ],
      "text/plain": [
       "        CLIENT_ID  MBR_AGE MBR_GENDER MBR_PRIMARY_LANGUAGE  MBR_ZIPCODE  \\\n",
       "0  69266296A66A31       40       Male              ENGLISH        80304   \n",
       "1  58777785A44A11       28       Male              ENGLISH        80302   \n",
       "2  87855878244282       20     Female              ENGLISH        80504   \n",
       "3  49A88A94244201       36       Male              ENGLISH        80304   \n",
       "4  7A8778A7799771       45     Female              ENGLISH        80302   \n",
       "\n",
       "  MEDICAID_ELIG_CAT SERVICE_DATE SERVICE_CODE  \\\n",
       "0          DISABLED     1/1/2015        H0018   \n",
       "1          DISABLED     1/1/2015        H0018   \n",
       "2          DISABLED     1/1/2015        H0018   \n",
       "3          DISABLED     1/1/2015        H0018   \n",
       "4          DISABLED     1/1/2015        H0018   \n",
       "\n",
       "                                    SERV_CODE_DESCRP  \\\n",
       "0  Behavioral health; short-term residential (non...   \n",
       "1  Behavioral health; short-term residential (non...   \n",
       "2  Behavioral health; short-term residential (non...   \n",
       "3  Behavioral health; short-term residential (non...   \n",
       "4  Behavioral health; short-term residential (non...   \n",
       "\n",
       "                         DIAGNOSIS    ...      SERVICE_TYPE  SERVICE_DURATION  \\\n",
       "0  Other Schizoaffective Disorders    ...               ATU             1260    \n",
       "1  Other Schizoaffective Disorders    ...               ATU             360     \n",
       "2  Other Schizoaffective Disorders    ...               ATU             1310    \n",
       "3       Schizophrenia, Unspecified    ...               ATU             1440    \n",
       "4       Schizophrenia, Unspecified    ...               ATU             1080    \n",
       "\n",
       "   ADMISSION_DATE DISCHARGE_DATE                PROVIDER  \\\n",
       "0                                 MENTAL HEALTH PARTNERS   \n",
       "1                                 MENTAL HEALTH PARTNERS   \n",
       "2                                 MENTAL HEALTH PARTNERS   \n",
       "3                                 MENTAL HEALTH PARTNERS   \n",
       "4                                 MENTAL HEALTH PARTNERS   \n",
       "\n",
       "                                        PRV_TYP_DESC PROV_CREDENTIALS  \\\n",
       "0  COMMUNITY MENTAL HEALTH CENTER OR PUB HLTH AGENCY          CAC III   \n",
       "1  COMMUNITY MENTAL HEALTH CENTER OR PUB HLTH AGENCY          CAC III   \n",
       "2  COMMUNITY MENTAL HEALTH CENTER OR PUB HLTH AGENCY          CAC III   \n",
       "3  COMMUNITY MENTAL HEALTH CENTER OR PUB HLTH AGENCY          CAC III   \n",
       "4  COMMUNITY MENTAL HEALTH CENTER OR PUB HLTH AGENCY          CAC III   \n",
       "\n",
       "  PROV_ZIPCODE PROV_FLAG     SOURCE  \n",
       "0        80304  MHP CMHC  Encounter  \n",
       "1        80304  MHP CMHC  Encounter  \n",
       "2        80304  MHP CMHC  Encounter  \n",
       "3        80304  MHP CMHC  Encounter  \n",
       "4        80304  MHP CMHC  Encounter  \n",
       "\n",
       "[5 rows x 23 columns]"
      ]
     },
     "execution_count": 5,
     "metadata": {},
     "output_type": "execute_result"
    }
   ],
   "source": [
    "services.head()"
   ]
  },
  {
   "cell_type": "code",
   "execution_count": 6,
   "metadata": {
    "collapsed": true
   },
   "outputs": [],
   "source": [
    "services['CLAIM'] = services['SOURCE'].str.contains('Claim', regex=True).astype(int)"
   ]
  },
  {
   "cell_type": "code",
   "execution_count": 7,
   "metadata": {
    "collapsed": true
   },
   "outputs": [],
   "source": [
    "services.drop('SOURCE', axis=1,inplace=True)"
   ]
  },
  {
   "cell_type": "code",
   "execution_count": 8,
   "metadata": {
    "collapsed": false
   },
   "outputs": [
    {
     "data": {
      "text/html": [
       "<div>\n",
       "<table border=\"1\" class=\"dataframe\">\n",
       "  <thead>\n",
       "    <tr style=\"text-align: right;\">\n",
       "      <th></th>\n",
       "      <th>CLIENT_ID</th>\n",
       "      <th>MBR_AGE</th>\n",
       "      <th>MBR_GENDER</th>\n",
       "      <th>MBR_PRIMARY_LANGUAGE</th>\n",
       "      <th>MBR_ZIPCODE</th>\n",
       "      <th>MEDICAID_ELIG_CAT</th>\n",
       "      <th>SERVICE_DATE</th>\n",
       "      <th>SERVICE_CODE</th>\n",
       "      <th>SERV_CODE_DESCRP</th>\n",
       "      <th>DIAGNOSIS</th>\n",
       "      <th>...</th>\n",
       "      <th>SERVICE_TYPE</th>\n",
       "      <th>SERVICE_DURATION</th>\n",
       "      <th>ADMISSION_DATE</th>\n",
       "      <th>DISCHARGE_DATE</th>\n",
       "      <th>PROVIDER</th>\n",
       "      <th>PRV_TYP_DESC</th>\n",
       "      <th>PROV_CREDENTIALS</th>\n",
       "      <th>PROV_ZIPCODE</th>\n",
       "      <th>PROV_FLAG</th>\n",
       "      <th>CLAIM</th>\n",
       "    </tr>\n",
       "  </thead>\n",
       "  <tbody>\n",
       "    <tr>\n",
       "      <th>0</th>\n",
       "      <td>69266296A66A31</td>\n",
       "      <td>40</td>\n",
       "      <td>Male</td>\n",
       "      <td>ENGLISH</td>\n",
       "      <td>80304</td>\n",
       "      <td>DISABLED</td>\n",
       "      <td>1/1/2015</td>\n",
       "      <td>H0018</td>\n",
       "      <td>Behavioral health; short-term residential (non...</td>\n",
       "      <td>Other Schizoaffective Disorders</td>\n",
       "      <td>...</td>\n",
       "      <td>ATU</td>\n",
       "      <td>1260</td>\n",
       "      <td></td>\n",
       "      <td></td>\n",
       "      <td>MENTAL HEALTH PARTNERS</td>\n",
       "      <td>COMMUNITY MENTAL HEALTH CENTER OR PUB HLTH AGENCY</td>\n",
       "      <td>CAC III</td>\n",
       "      <td>80304</td>\n",
       "      <td>MHP CMHC</td>\n",
       "      <td>0</td>\n",
       "    </tr>\n",
       "  </tbody>\n",
       "</table>\n",
       "<p>1 rows × 23 columns</p>\n",
       "</div>"
      ],
      "text/plain": [
       "        CLIENT_ID  MBR_AGE MBR_GENDER MBR_PRIMARY_LANGUAGE  MBR_ZIPCODE  \\\n",
       "0  69266296A66A31       40       Male              ENGLISH        80304   \n",
       "\n",
       "  MEDICAID_ELIG_CAT SERVICE_DATE SERVICE_CODE  \\\n",
       "0          DISABLED     1/1/2015        H0018   \n",
       "\n",
       "                                    SERV_CODE_DESCRP  \\\n",
       "0  Behavioral health; short-term residential (non...   \n",
       "\n",
       "                         DIAGNOSIS  ...   SERVICE_TYPE  SERVICE_DURATION  \\\n",
       "0  Other Schizoaffective Disorders  ...            ATU             1260    \n",
       "\n",
       "   ADMISSION_DATE DISCHARGE_DATE                PROVIDER  \\\n",
       "0                                 MENTAL HEALTH PARTNERS   \n",
       "\n",
       "                                        PRV_TYP_DESC PROV_CREDENTIALS  \\\n",
       "0  COMMUNITY MENTAL HEALTH CENTER OR PUB HLTH AGENCY          CAC III   \n",
       "\n",
       "  PROV_ZIPCODE PROV_FLAG CLAIM  \n",
       "0        80304  MHP CMHC     0  \n",
       "\n",
       "[1 rows x 23 columns]"
      ]
     },
     "execution_count": 8,
     "metadata": {},
     "output_type": "execute_result"
    }
   ],
   "source": [
    "services.head(1)"
   ]
  },
  {
   "cell_type": "code",
   "execution_count": 9,
   "metadata": {
    "collapsed": false
   },
   "outputs": [
    {
     "data": {
      "text/plain": [
       "Index([u'CLIENT_ID', u'CCAR_TYPE', u'CCAR_DATE', u'HOUSING',\n",
       "       u'LEVEL_OF_FUNCTIONING', u'SYMPTOM_SEVERITY', u'HOPE'],\n",
       "      dtype='object')"
      ]
     },
     "execution_count": 9,
     "metadata": {},
     "output_type": "execute_result"
    }
   ],
   "source": [
    "ccars.columns"
   ]
  },
  {
   "cell_type": "code",
   "execution_count": 10,
   "metadata": {
    "collapsed": false
   },
   "outputs": [
    {
     "data": {
      "text/plain": [
       "Index([u'CLIENT_ID', u'MBR_AGE', u'MBR_GENDER', u'MBR_PRIMARY_LANGUAGE',\n",
       "       u'MBR_ZIPCODE', u'MEDICAID_ELIG_CAT', u'SERVICE_DATE', u'SERVICE_CODE',\n",
       "       u'SERV_CODE_DESCRP', u'DIAGNOSIS', u'SERVICE_UNITS', u'CHARGED_AMT',\n",
       "       u'PAID_AMT', u'SERVICE_TYPE', u'SERVICE_DURATION', u'ADMISSION_DATE',\n",
       "       u'DISCHARGE_DATE', u'PROVIDER', u'PRV_TYP_DESC', u'PROV_CREDENTIALS',\n",
       "       u'PROV_ZIPCODE', u'PROV_FLAG', u'CLAIM'],\n",
       "      dtype='object')"
      ]
     },
     "execution_count": 10,
     "metadata": {},
     "output_type": "execute_result"
    }
   ],
   "source": [
    "services.columns"
   ]
  },
  {
   "cell_type": "code",
   "execution_count": 23,
   "metadata": {
    "collapsed": true
   },
   "outputs": [],
   "source": [
    "df = pd.merge(ccars, services, on='CLIENT_ID', how='left')"
   ]
  },
  {
   "cell_type": "code",
   "execution_count": 24,
   "metadata": {
    "collapsed": false,
    "scrolled": true
   },
   "outputs": [
    {
     "data": {
      "text/html": [
       "<div>\n",
       "<table border=\"1\" class=\"dataframe\">\n",
       "  <thead>\n",
       "    <tr style=\"text-align: right;\">\n",
       "      <th></th>\n",
       "      <th>CLIENT_ID</th>\n",
       "      <th>CCAR_TYPE</th>\n",
       "      <th>CCAR_DATE</th>\n",
       "      <th>HOUSING</th>\n",
       "      <th>LEVEL_OF_FUNCTIONING</th>\n",
       "      <th>SYMPTOM_SEVERITY</th>\n",
       "      <th>HOPE</th>\n",
       "      <th>MBR_AGE</th>\n",
       "      <th>MBR_GENDER</th>\n",
       "      <th>MBR_PRIMARY_LANGUAGE</th>\n",
       "      <th>...</th>\n",
       "      <th>SERVICE_TYPE</th>\n",
       "      <th>SERVICE_DURATION</th>\n",
       "      <th>ADMISSION_DATE</th>\n",
       "      <th>DISCHARGE_DATE</th>\n",
       "      <th>PROVIDER</th>\n",
       "      <th>PRV_TYP_DESC</th>\n",
       "      <th>PROV_CREDENTIALS</th>\n",
       "      <th>PROV_ZIPCODE</th>\n",
       "      <th>PROV_FLAG</th>\n",
       "      <th>CLAIM</th>\n",
       "    </tr>\n",
       "  </thead>\n",
       "  <tbody>\n",
       "    <tr>\n",
       "      <th>0</th>\n",
       "      <td>4A8998A4966913</td>\n",
       "      <td>NaN</td>\n",
       "      <td>4/15/2015</td>\n",
       "      <td>15</td>\n",
       "      <td>3</td>\n",
       "      <td>3</td>\n",
       "      <td>1</td>\n",
       "      <td>14.0</td>\n",
       "      <td>Female</td>\n",
       "      <td>ENGLISH</td>\n",
       "      <td>...</td>\n",
       "      <td>OUTPATIENT</td>\n",
       "      <td>40</td>\n",
       "      <td></td>\n",
       "      <td></td>\n",
       "      <td>MENTAL HEALTH PARTNERS</td>\n",
       "      <td>COMMUNITY MENTAL HEALTH CENTER OR PUB HLTH AGENCY</td>\n",
       "      <td>LPC</td>\n",
       "      <td>80304.0</td>\n",
       "      <td>MHP CMHC</td>\n",
       "      <td>0.0</td>\n",
       "    </tr>\n",
       "    <tr>\n",
       "      <th>1</th>\n",
       "      <td>4A8998A4966913</td>\n",
       "      <td>NaN</td>\n",
       "      <td>4/15/2015</td>\n",
       "      <td>15</td>\n",
       "      <td>3</td>\n",
       "      <td>3</td>\n",
       "      <td>1</td>\n",
       "      <td>14.0</td>\n",
       "      <td>Female</td>\n",
       "      <td>ENGLISH</td>\n",
       "      <td>...</td>\n",
       "      <td>OUTPATIENT</td>\n",
       "      <td>30</td>\n",
       "      <td></td>\n",
       "      <td></td>\n",
       "      <td>MENTAL HEALTH PARTNERS</td>\n",
       "      <td>COMMUNITY MENTAL HEALTH CENTER OR PUB HLTH AGENCY</td>\n",
       "      <td>MD/DO</td>\n",
       "      <td>80304.0</td>\n",
       "      <td>MHP CMHC</td>\n",
       "      <td>0.0</td>\n",
       "    </tr>\n",
       "    <tr>\n",
       "      <th>2</th>\n",
       "      <td>4A8998A4966913</td>\n",
       "      <td>NaN</td>\n",
       "      <td>4/15/2015</td>\n",
       "      <td>15</td>\n",
       "      <td>3</td>\n",
       "      <td>3</td>\n",
       "      <td>1</td>\n",
       "      <td>14.0</td>\n",
       "      <td>Female</td>\n",
       "      <td>ENGLISH</td>\n",
       "      <td>...</td>\n",
       "      <td>CASE MGT</td>\n",
       "      <td>11</td>\n",
       "      <td></td>\n",
       "      <td></td>\n",
       "      <td>MENTAL HEALTH PARTNERS</td>\n",
       "      <td>COMMUNITY MENTAL HEALTH CENTER OR PUB HLTH AGENCY</td>\n",
       "      <td>LPC</td>\n",
       "      <td>80304.0</td>\n",
       "      <td>MHP CMHC</td>\n",
       "      <td>0.0</td>\n",
       "    </tr>\n",
       "    <tr>\n",
       "      <th>3</th>\n",
       "      <td>4A8998A4966913</td>\n",
       "      <td>NaN</td>\n",
       "      <td>4/15/2015</td>\n",
       "      <td>15</td>\n",
       "      <td>3</td>\n",
       "      <td>3</td>\n",
       "      <td>1</td>\n",
       "      <td>14.0</td>\n",
       "      <td>Female</td>\n",
       "      <td>ENGLISH</td>\n",
       "      <td>...</td>\n",
       "      <td>OUTPATIENT</td>\n",
       "      <td>50</td>\n",
       "      <td></td>\n",
       "      <td></td>\n",
       "      <td>MENTAL HEALTH PARTNERS</td>\n",
       "      <td>COMMUNITY MENTAL HEALTH CENTER OR PUB HLTH AGENCY</td>\n",
       "      <td>LPC</td>\n",
       "      <td>80304.0</td>\n",
       "      <td>MHP CMHC</td>\n",
       "      <td>0.0</td>\n",
       "    </tr>\n",
       "    <tr>\n",
       "      <th>4</th>\n",
       "      <td>4A8998A4966913</td>\n",
       "      <td>NaN</td>\n",
       "      <td>4/15/2015</td>\n",
       "      <td>15</td>\n",
       "      <td>3</td>\n",
       "      <td>3</td>\n",
       "      <td>1</td>\n",
       "      <td>14.0</td>\n",
       "      <td>Female</td>\n",
       "      <td>ENGLISH</td>\n",
       "      <td>...</td>\n",
       "      <td>OUTPATIENT</td>\n",
       "      <td>55</td>\n",
       "      <td></td>\n",
       "      <td></td>\n",
       "      <td>MENTAL HEALTH PARTNERS</td>\n",
       "      <td>COMMUNITY MENTAL HEALTH CENTER OR PUB HLTH AGENCY</td>\n",
       "      <td>LPC</td>\n",
       "      <td>80304.0</td>\n",
       "      <td>MHP CMHC</td>\n",
       "      <td>0.0</td>\n",
       "    </tr>\n",
       "  </tbody>\n",
       "</table>\n",
       "<p>5 rows × 29 columns</p>\n",
       "</div>"
      ],
      "text/plain": [
       "        CLIENT_ID  CCAR_TYPE  CCAR_DATE  HOUSING  LEVEL_OF_FUNCTIONING  \\\n",
       "0  4A8998A4966913        NaN  4/15/2015       15                     3   \n",
       "1  4A8998A4966913        NaN  4/15/2015       15                     3   \n",
       "2  4A8998A4966913        NaN  4/15/2015       15                     3   \n",
       "3  4A8998A4966913        NaN  4/15/2015       15                     3   \n",
       "4  4A8998A4966913        NaN  4/15/2015       15                     3   \n",
       "\n",
       "   SYMPTOM_SEVERITY  HOPE  MBR_AGE MBR_GENDER MBR_PRIMARY_LANGUAGE  ...   \\\n",
       "0                 3     1     14.0     Female              ENGLISH  ...    \n",
       "1                 3     1     14.0     Female              ENGLISH  ...    \n",
       "2                 3     1     14.0     Female              ENGLISH  ...    \n",
       "3                 3     1     14.0     Female              ENGLISH  ...    \n",
       "4                 3     1     14.0     Female              ENGLISH  ...    \n",
       "\n",
       "   SERVICE_TYPE SERVICE_DURATION ADMISSION_DATE DISCHARGE_DATE  \\\n",
       "0    OUTPATIENT            40                                    \n",
       "1    OUTPATIENT            30                                    \n",
       "2      CASE MGT            11                                    \n",
       "3    OUTPATIENT            50                                    \n",
       "4    OUTPATIENT            55                                    \n",
       "\n",
       "                 PROVIDER                                       PRV_TYP_DESC  \\\n",
       "0  MENTAL HEALTH PARTNERS  COMMUNITY MENTAL HEALTH CENTER OR PUB HLTH AGENCY   \n",
       "1  MENTAL HEALTH PARTNERS  COMMUNITY MENTAL HEALTH CENTER OR PUB HLTH AGENCY   \n",
       "2  MENTAL HEALTH PARTNERS  COMMUNITY MENTAL HEALTH CENTER OR PUB HLTH AGENCY   \n",
       "3  MENTAL HEALTH PARTNERS  COMMUNITY MENTAL HEALTH CENTER OR PUB HLTH AGENCY   \n",
       "4  MENTAL HEALTH PARTNERS  COMMUNITY MENTAL HEALTH CENTER OR PUB HLTH AGENCY   \n",
       "\n",
       "   PROV_CREDENTIALS  PROV_ZIPCODE  PROV_FLAG CLAIM  \n",
       "0               LPC       80304.0   MHP CMHC   0.0  \n",
       "1             MD/DO       80304.0   MHP CMHC   0.0  \n",
       "2               LPC       80304.0   MHP CMHC   0.0  \n",
       "3               LPC       80304.0   MHP CMHC   0.0  \n",
       "4               LPC       80304.0   MHP CMHC   0.0  \n",
       "\n",
       "[5 rows x 29 columns]"
      ]
     },
     "execution_count": 24,
     "metadata": {},
     "output_type": "execute_result"
    }
   ],
   "source": [
    "df.head()"
   ]
  },
  {
   "cell_type": "code",
   "execution_count": 25,
   "metadata": {
    "collapsed": false
   },
   "outputs": [
    {
     "data": {
      "text/plain": [
       "335880"
      ]
     },
     "execution_count": 25,
     "metadata": {},
     "output_type": "execute_result"
    }
   ],
   "source": [
    "len(services)"
   ]
  },
  {
   "cell_type": "code",
   "execution_count": 26,
   "metadata": {
    "collapsed": false
   },
   "outputs": [
    {
     "data": {
      "text/plain": [
       "15079"
      ]
     },
     "execution_count": 26,
     "metadata": {},
     "output_type": "execute_result"
    }
   ],
   "source": [
    "len(ccars)"
   ]
  },
  {
   "cell_type": "code",
   "execution_count": 27,
   "metadata": {
    "collapsed": false
   },
   "outputs": [
    {
     "data": {
      "text/plain": [
       "651962"
      ]
     },
     "execution_count": 27,
     "metadata": {},
     "output_type": "execute_result"
    }
   ],
   "source": [
    "len(df)"
   ]
  },
  {
   "cell_type": "code",
   "execution_count": 28,
   "metadata": {
    "collapsed": true
   },
   "outputs": [],
   "source": [
    "df.dropna(axis=0, how='any', thresh=None, subset=None, inplace=True)"
   ]
  },
  {
   "cell_type": "code",
   "execution_count": 29,
   "metadata": {
    "collapsed": false
   },
   "outputs": [
    {
     "data": {
      "text/plain": [
       "307370"
      ]
     },
     "execution_count": 29,
     "metadata": {},
     "output_type": "execute_result"
    }
   ],
   "source": [
    "len(df)"
   ]
  },
  {
   "cell_type": "code",
   "execution_count": 30,
   "metadata": {
    "collapsed": false
   },
   "outputs": [
    {
     "data": {
      "text/html": [
       "<div>\n",
       "<table border=\"1\" class=\"dataframe\">\n",
       "  <thead>\n",
       "    <tr style=\"text-align: right;\">\n",
       "      <th></th>\n",
       "      <th>CLIENT_ID</th>\n",
       "      <th>CCAR_TYPE</th>\n",
       "      <th>CCAR_DATE</th>\n",
       "      <th>HOUSING</th>\n",
       "      <th>LEVEL_OF_FUNCTIONING</th>\n",
       "      <th>SYMPTOM_SEVERITY</th>\n",
       "      <th>HOPE</th>\n",
       "      <th>MBR_AGE</th>\n",
       "      <th>MBR_GENDER</th>\n",
       "      <th>MBR_PRIMARY_LANGUAGE</th>\n",
       "      <th>...</th>\n",
       "      <th>SERVICE_TYPE</th>\n",
       "      <th>SERVICE_DURATION</th>\n",
       "      <th>ADMISSION_DATE</th>\n",
       "      <th>DISCHARGE_DATE</th>\n",
       "      <th>PROVIDER</th>\n",
       "      <th>PRV_TYP_DESC</th>\n",
       "      <th>PROV_CREDENTIALS</th>\n",
       "      <th>PROV_ZIPCODE</th>\n",
       "      <th>PROV_FLAG</th>\n",
       "      <th>CLAIM</th>\n",
       "    </tr>\n",
       "  </thead>\n",
       "  <tbody>\n",
       "    <tr>\n",
       "      <th>32</th>\n",
       "      <td>22655622722713</td>\n",
       "      <td>1.0</td>\n",
       "      <td>4/15/2015</td>\n",
       "      <td>15</td>\n",
       "      <td>3</td>\n",
       "      <td>3</td>\n",
       "      <td>3</td>\n",
       "      <td>17.0</td>\n",
       "      <td>Female</td>\n",
       "      <td>ENGLISH</td>\n",
       "      <td>...</td>\n",
       "      <td>OUTPATIENT</td>\n",
       "      <td>30</td>\n",
       "      <td></td>\n",
       "      <td></td>\n",
       "      <td>MENTAL HEALTH PARTNERS</td>\n",
       "      <td>COMMUNITY MENTAL HEALTH CENTER OR PUB HLTH AGENCY</td>\n",
       "      <td>MD/DO</td>\n",
       "      <td>80304.0</td>\n",
       "      <td>MHP CMHC</td>\n",
       "      <td>0.0</td>\n",
       "    </tr>\n",
       "    <tr>\n",
       "      <th>33</th>\n",
       "      <td>22655622722713</td>\n",
       "      <td>1.0</td>\n",
       "      <td>4/15/2015</td>\n",
       "      <td>15</td>\n",
       "      <td>3</td>\n",
       "      <td>3</td>\n",
       "      <td>3</td>\n",
       "      <td>17.0</td>\n",
       "      <td>Female</td>\n",
       "      <td>ENGLISH</td>\n",
       "      <td>...</td>\n",
       "      <td>OUTPATIENT</td>\n",
       "      <td>30</td>\n",
       "      <td></td>\n",
       "      <td></td>\n",
       "      <td>MENTAL HEALTH PARTNERS</td>\n",
       "      <td>COMMUNITY MENTAL HEALTH CENTER OR PUB HLTH AGENCY</td>\n",
       "      <td>ANP</td>\n",
       "      <td>80304.0</td>\n",
       "      <td>MHP CMHC</td>\n",
       "      <td>0.0</td>\n",
       "    </tr>\n",
       "    <tr>\n",
       "      <th>34</th>\n",
       "      <td>22655622722713</td>\n",
       "      <td>1.0</td>\n",
       "      <td>4/15/2015</td>\n",
       "      <td>15</td>\n",
       "      <td>3</td>\n",
       "      <td>3</td>\n",
       "      <td>3</td>\n",
       "      <td>17.0</td>\n",
       "      <td>Female</td>\n",
       "      <td>ENGLISH</td>\n",
       "      <td>...</td>\n",
       "      <td>OUTPATIENT</td>\n",
       "      <td>15</td>\n",
       "      <td></td>\n",
       "      <td></td>\n",
       "      <td>MENTAL HEALTH PARTNERS</td>\n",
       "      <td>COMMUNITY MENTAL HEALTH CENTER OR PUB HLTH AGENCY</td>\n",
       "      <td>RN</td>\n",
       "      <td>80304.0</td>\n",
       "      <td>MHP CMHC</td>\n",
       "      <td>0.0</td>\n",
       "    </tr>\n",
       "    <tr>\n",
       "      <th>36</th>\n",
       "      <td>22655622722713</td>\n",
       "      <td>1.0</td>\n",
       "      <td>4/15/2015</td>\n",
       "      <td>15</td>\n",
       "      <td>3</td>\n",
       "      <td>3</td>\n",
       "      <td>3</td>\n",
       "      <td>17.0</td>\n",
       "      <td>Female</td>\n",
       "      <td>ENGLISH</td>\n",
       "      <td>...</td>\n",
       "      <td>CASE MGT</td>\n",
       "      <td>15</td>\n",
       "      <td></td>\n",
       "      <td></td>\n",
       "      <td>MENTAL HEALTH PARTNERS</td>\n",
       "      <td>COMMUNITY MENTAL HEALTH CENTER OR PUB HLTH AGENCY</td>\n",
       "      <td>RN</td>\n",
       "      <td>80304.0</td>\n",
       "      <td>MHP CMHC</td>\n",
       "      <td>0.0</td>\n",
       "    </tr>\n",
       "    <tr>\n",
       "      <th>37</th>\n",
       "      <td>22655622722713</td>\n",
       "      <td>1.0</td>\n",
       "      <td>4/15/2015</td>\n",
       "      <td>15</td>\n",
       "      <td>3</td>\n",
       "      <td>3</td>\n",
       "      <td>3</td>\n",
       "      <td>17.0</td>\n",
       "      <td>Female</td>\n",
       "      <td>ENGLISH</td>\n",
       "      <td>...</td>\n",
       "      <td>OUTPATIENT</td>\n",
       "      <td>45</td>\n",
       "      <td></td>\n",
       "      <td></td>\n",
       "      <td>MENTAL HEALTH PARTNERS</td>\n",
       "      <td>COMMUNITY MENTAL HEALTH CENTER OR PUB HLTH AGENCY</td>\n",
       "      <td>RN</td>\n",
       "      <td>80304.0</td>\n",
       "      <td>MHP CMHC</td>\n",
       "      <td>0.0</td>\n",
       "    </tr>\n",
       "  </tbody>\n",
       "</table>\n",
       "<p>5 rows × 29 columns</p>\n",
       "</div>"
      ],
      "text/plain": [
       "         CLIENT_ID  CCAR_TYPE  CCAR_DATE  HOUSING  LEVEL_OF_FUNCTIONING  \\\n",
       "32  22655622722713        1.0  4/15/2015       15                     3   \n",
       "33  22655622722713        1.0  4/15/2015       15                     3   \n",
       "34  22655622722713        1.0  4/15/2015       15                     3   \n",
       "36  22655622722713        1.0  4/15/2015       15                     3   \n",
       "37  22655622722713        1.0  4/15/2015       15                     3   \n",
       "\n",
       "    SYMPTOM_SEVERITY  HOPE  MBR_AGE MBR_GENDER MBR_PRIMARY_LANGUAGE  ...   \\\n",
       "32                 3     3     17.0     Female              ENGLISH  ...    \n",
       "33                 3     3     17.0     Female              ENGLISH  ...    \n",
       "34                 3     3     17.0     Female              ENGLISH  ...    \n",
       "36                 3     3     17.0     Female              ENGLISH  ...    \n",
       "37                 3     3     17.0     Female              ENGLISH  ...    \n",
       "\n",
       "    SERVICE_TYPE SERVICE_DURATION ADMISSION_DATE DISCHARGE_DATE  \\\n",
       "32    OUTPATIENT            30                                    \n",
       "33    OUTPATIENT            30                                    \n",
       "34    OUTPATIENT            15                                    \n",
       "36      CASE MGT            15                                    \n",
       "37    OUTPATIENT            45                                    \n",
       "\n",
       "                  PROVIDER                                       PRV_TYP_DESC  \\\n",
       "32  MENTAL HEALTH PARTNERS  COMMUNITY MENTAL HEALTH CENTER OR PUB HLTH AGENCY   \n",
       "33  MENTAL HEALTH PARTNERS  COMMUNITY MENTAL HEALTH CENTER OR PUB HLTH AGENCY   \n",
       "34  MENTAL HEALTH PARTNERS  COMMUNITY MENTAL HEALTH CENTER OR PUB HLTH AGENCY   \n",
       "36  MENTAL HEALTH PARTNERS  COMMUNITY MENTAL HEALTH CENTER OR PUB HLTH AGENCY   \n",
       "37  MENTAL HEALTH PARTNERS  COMMUNITY MENTAL HEALTH CENTER OR PUB HLTH AGENCY   \n",
       "\n",
       "    PROV_CREDENTIALS  PROV_ZIPCODE  PROV_FLAG CLAIM  \n",
       "32             MD/DO       80304.0   MHP CMHC   0.0  \n",
       "33               ANP       80304.0   MHP CMHC   0.0  \n",
       "34                RN       80304.0   MHP CMHC   0.0  \n",
       "36                RN       80304.0   MHP CMHC   0.0  \n",
       "37                RN       80304.0   MHP CMHC   0.0  \n",
       "\n",
       "[5 rows x 29 columns]"
      ]
     },
     "execution_count": 30,
     "metadata": {},
     "output_type": "execute_result"
    }
   ],
   "source": [
    "df.head()"
   ]
  },
  {
   "cell_type": "code",
   "execution_count": 31,
   "metadata": {
    "collapsed": false,
    "scrolled": true
   },
   "outputs": [
    {
     "data": {
      "text/plain": [
       "Index([u'CLIENT_ID', u'CCAR_TYPE', u'CCAR_DATE', u'HOUSING',\n",
       "       u'LEVEL_OF_FUNCTIONING', u'SYMPTOM_SEVERITY', u'HOPE', u'MBR_AGE',\n",
       "       u'MBR_GENDER', u'MBR_PRIMARY_LANGUAGE', u'MBR_ZIPCODE',\n",
       "       u'MEDICAID_ELIG_CAT', u'SERVICE_DATE', u'SERVICE_CODE',\n",
       "       u'SERV_CODE_DESCRP', u'DIAGNOSIS', u'SERVICE_UNITS', u'CHARGED_AMT',\n",
       "       u'PAID_AMT', u'SERVICE_TYPE', u'SERVICE_DURATION', u'ADMISSION_DATE',\n",
       "       u'DISCHARGE_DATE', u'PROVIDER', u'PRV_TYP_DESC', u'PROV_CREDENTIALS',\n",
       "       u'PROV_ZIPCODE', u'PROV_FLAG', u'CLAIM'],\n",
       "      dtype='object')"
      ]
     },
     "execution_count": 31,
     "metadata": {},
     "output_type": "execute_result"
    }
   ],
   "source": [
    "df.columns"
   ]
  },
  {
   "cell_type": "markdown",
   "metadata": {},
   "source": [
    "Create dummy columns for:<br>\n",
    "<li>PRV_TYP_DESC\n",
    "<li>SERVICE_TYPE\n",
    "<li>SERV_CODE_DESCRP\n",
    "<li>MEDICAID_ELIG_CAT\n",
    "<li>MBR_PRIMARY_LANGUAGE\n",
    "<li>MBR_GENDER\n",
    "<li>CCAR_TYPE"
   ]
  },
  {
   "cell_type": "code",
   "execution_count": 33,
   "metadata": {
    "collapsed": false
   },
   "outputs": [
    {
     "data": {
      "text/plain": [
       "PRV_TYP_DESC\n",
       "COMMUNITY MENTAL HEALTH CENTER OR PUB HLTH AGENCY    302240\n",
       "PRACTITIONER                                           5130\n",
       "Name: CLIENT_ID, dtype: int64"
      ]
     },
     "execution_count": 33,
     "metadata": {},
     "output_type": "execute_result"
    }
   ],
   "source": [
    "df.groupby('PRV_TYP_DESC')['CLIENT_ID'].count()"
   ]
  },
  {
   "cell_type": "code",
   "execution_count": 34,
   "metadata": {
    "collapsed": false
   },
   "outputs": [
    {
     "data": {
      "text/plain": [
       "SERVICE_TYPE\n",
       "ATU             17154\n",
       "CASE MGT        68624\n",
       "OUTPATIENT     196784\n",
       "RESIDENTIAL        16\n",
       "RESPITE          2675\n",
       "SUD             17500\n",
       "VOCATIONAL       4617\n",
       "Name: CLIENT_ID, dtype: int64"
      ]
     },
     "execution_count": 34,
     "metadata": {},
     "output_type": "execute_result"
    }
   ],
   "source": [
    "df.groupby('SERVICE_TYPE')['CLIENT_ID'].count()"
   ]
  },
  {
   "cell_type": "code",
   "execution_count": 35,
   "metadata": {
    "collapsed": false
   },
   "outputs": [
    {
     "data": {
      "text/plain": [
       "MEDICAID_ELIG_CAT\n",
       "ADULT           17396\n",
       "AwDC            81300\n",
       "CHILD           20907\n",
       "DISABLED       167707\n",
       "ELDERLY          7535\n",
       "FOSTER CARE     12370\n",
       "OTHER             155\n",
       "Name: CLIENT_ID, dtype: int64"
      ]
     },
     "execution_count": 35,
     "metadata": {},
     "output_type": "execute_result"
    }
   ],
   "source": [
    "df.groupby('MEDICAID_ELIG_CAT')['CLIENT_ID'].count()"
   ]
  },
  {
   "cell_type": "code",
   "execution_count": 36,
   "metadata": {
    "collapsed": false
   },
   "outputs": [
    {
     "data": {
      "text/plain": [
       "SERV_CODE_DESCRP\n",
       "30-minute psychotherapy add-on code                                                                                                                                                                                                                                                                                                          258\n",
       "Activity therapy, per 15 minutes                                                                                                                                                                                                                                                                                                            3116\n",
       "Alcohol and/or drug services; case management                                                                                                                                                                                                                                                                                                442\n",
       "Alcohol and/or drug services; group counseling by a clinician.  **A planned therapeutic or counseling activity conducted by a clinician with a group (i.e., more than 1 but not more than 12) of unrelated clients.  Activities are designed to assist clients and/or their families/significant others to achieve treatment objectives     3454\n",
       "Alcohol and/or drug services; intensive outpatient (treatment program that operates at least 3 hours/day and at least 3 days/week and is based on an individualized treatment plan), including assessment, counseling; crisis intervention, and activity therapies or education                                                                3\n",
       "Assertive community treatment, face-to-face, per 15 minutes                                                                                                                                                                                                                                                                                 3966\n",
       "Behavioral Health Outreach services                                                                                                                                                                                                                                                                                                         2636\n",
       "Behavioral health counseling and therapy per 15 min                                                                                                                                                                                                                                                                                        34928\n",
       "Behavioral health screening to determine eligibility for admission to treatment program                                                                                                                                                                                                                                                       45\n",
       "Behavioral health; short-term residential (non-Hospital residential treatment program), without room and board, per diem                                                                                                                                                                                                                   17170\n",
       "CASE MANAGEMENT                                                                                                                                                                                                                                                                                                                               56\n",
       "Case management, each 15 minutes                                                                                                                                                                                                                                                                                                               3\n",
       "Crisis intervention service, per 15 minutes                                                                                                                                                                                                                                                                                                 9049\n",
       "ELECTROCONVULSIVE THERAPY                                                                                                                                                                                                                                                                                                                      1\n",
       "ESTABLISHED PATIENT/EVALUATION                                                                                                                                                                                                                                                                                                                89\n",
       "Established Patient office or outpatient visit - 10 min                                                                                                                                                                                                                                                                                      475\n",
       "Established Patient office or outpatient visit - 15 min                                                                                                                                                                                                                                                                                    12536\n",
       "Established Patient office or outpatient visit - 25 min                                                                                                                                                                                                                                                                                    11592\n",
       "Established Patient office or outpatient visit - 40 min                                                                                                                                                                                                                                                                                     1501\n",
       "Evaluating of a client by a clinician to determine the presence, nature, and extent of the clients abuse, misuse, and/or addiction to AOD, with the goal of formulating a plan for services                                                                                                                                                  116\n",
       "FAMILY PSYCHOTHERAPY(WITH PATIENT PRESENT)                                                                                                                                                                                                                                                                                                  6834\n",
       "FAMILY PSYCHOTHERAPY(WITHOUT PATIENT PRESENT)                                                                                                                                                                                                                                                                                               1870\n",
       "GROUP THERAPY(OTHER THAN MULTI-FAMILY)                                                                                                                                                                                                                                                                                                      6325\n",
       "HOSPITAL DISCHARGE DAY MANAGEMENT; 30 MINUTES OR                                                                                                                                                                                                                                                                                               7\n",
       "HOSPITAL DISCHARGE DAY MANAGEMENT; MORE THEN 30                                                                                                                                                                                                                                                                                               41\n",
       "Home care services requires expanded problem focused interval history, expanded problem focused examination low complexity medical decision making average time 25 minutes ,established patient                                                                                                                                                4\n",
       "INPATIENT CONSULTATION/COMPREHENSIVE                                                                                                                                                                                                                                                                                                           1\n",
       "INPATIENT CONSULTATION/DETAILED                                                                                                                                                                                                                                                                                                               15\n",
       "Individual Psychotherapy, 45 min.                                                                                                                                                                                                                                                                                                          17723\n",
       "Individual Psychotherapy, 60 min.                                                                                                                                                                                                                                                                                                          16822\n",
       "                                                                                                                                                                                                                                                                                                                                           ...  \n",
       "Pyschiatric Diagnostic Evaluation (no medical services)                                                                                                                                                                                                                                                                                     3923\n",
       "RESPITE                                                                                                                                                                                                                                                                                                                                       10\n",
       "RESPITE CARE LEVEL C                                                                                                                                                                                                                                                                                                                           4\n",
       "Rest Home, Boarding Home, Custodial Care, New Patient - 15 min                                                                                                                                                                                                                                                                               128\n",
       "Rest Home, Boarding Home, Custodial Care, New Patient - 20 min                                                                                                                                                                                                                                                                                 2\n",
       "Rest Home, Boarding Home, Custodial Care, New Patient - 25 min                                                                                                                                                                                                                                                                               711\n",
       "Rest Home, Boarding Home, Custodial Care, New Patient - 30 min                                                                                                                                                                                                                                                                                41\n",
       "Rest Home, Boarding Home, Custodial Care, New Patient - 40 min                                                                                                                                                                                                                                                                               850\n",
       "Rest Home, Boarding Home, Custodial Care, New Patient - 45 min                                                                                                                                                                                                                                                                                32\n",
       "Rest Home, Boarding Home, Custodial Care, New Patient - 60 min                                                                                                                                                                                                                                                                               295\n",
       "Rest Home, Boarding Home, Custodial Care, New Patient - 75 min                                                                                                                                                                                                                                                                                 8\n",
       "Screening to determine the appropriateness of consideration of an individual for participation in a specified program, project, or treatment protocol, per encounter.  Level of motivation assessment for treatment evaluation.                                                                                                              225\n",
       "Self-Help/peer services, per 15 minutes                                                                                                                                                                                                                                                                                                     7380\n",
       "Skills training and development, per 15 minutes                                                                                                                                                                                                                                                                                             6160\n",
       "Smoking cessation classes, non-Physician provider, per session                                                                                                                                                                                                                                                                               174\n",
       "Subsequent Nursing Facility Care, new or established patient - high complexity 35 min                                                                                                                                                                                                                                                          1\n",
       "Subsequent Nursing Facility Care, new or established patient - low complexity 15 min                                                                                                                                                                                                                                                         192\n",
       "Subsequent Nursing Facility Care, new or established patient - medium complexity 25 min                                                                                                                                                                                                                                                       59\n",
       "Subsequent hospital care, new or established patient - 15 min                                                                                                                                                                                                                                                                                  8\n",
       "Subsequent hospital care, new or established patient - 25 min                                                                                                                                                                                                                                                                                289\n",
       "Subsequent hospital care, new or established patient - 35 min                                                                                                                                                                                                                                                                                 64\n",
       "Supported employment, per 15 minutes                                                                                                                                                                                                                                                                                                         144\n",
       "Targeted case management, each 15 minutes                                                                                                                                                                                                                                                                                                  35303\n",
       "Telephone evaluation and management service provided by a physician to an established patient, parent, or guardian; 11-20 minutes                                                                                                                                                                                                             10\n",
       "Telephone evaluation and management service provided by a physician to an established patient, parent, or guardian; 21-30 minutes                                                                                                                                                                                                             29\n",
       "Therapeutic or diagnostic injection (specify substance or drug); subcutaneous or intramuscular.                                                                                                                                                                                                                                             5763\n",
       "UNSKILLED RESPITE CARE PER DIEM                                                                                                                                                                                                                                                                                                             2632\n",
       "Unskilled Respite                                                                                                                                                                                                                                                                                                                             29\n",
       "VOCATIONAL SERVICES                                                                                                                                                                                                                                                                                                                         4501\n",
       "interactive complexity add-on code                                                                                                                                                                                                                                                                                                          1791\n",
       "Name: CLIENT_ID, dtype: int64"
      ]
     },
     "execution_count": 36,
     "metadata": {},
     "output_type": "execute_result"
    }
   ],
   "source": [
    "df.groupby('SERV_CODE_DESCRP')['CLIENT_ID'].count()"
   ]
  },
  {
   "cell_type": "code",
   "execution_count": 37,
   "metadata": {
    "collapsed": false
   },
   "outputs": [
    {
     "data": {
      "text/plain": [
       "MBR_PRIMARY_LANGUAGE\n",
       "ENGLISH          302740\n",
       "PERSIAN              60\n",
       "RUSSIAN             118\n",
       "SIGN LANGUAGE       192\n",
       "SPANISH            4260\n",
       "Name: CLIENT_ID, dtype: int64"
      ]
     },
     "execution_count": 37,
     "metadata": {},
     "output_type": "execute_result"
    }
   ],
   "source": [
    "df.groupby('MBR_PRIMARY_LANGUAGE')['CLIENT_ID'].count()"
   ]
  },
  {
   "cell_type": "code",
   "execution_count": 38,
   "metadata": {
    "collapsed": false
   },
   "outputs": [
    {
     "data": {
      "text/plain": [
       "MBR_GENDER\n",
       "Female     138718\n",
       "Male       168416\n",
       "Unknown       236\n",
       "Name: CLIENT_ID, dtype: int64"
      ]
     },
     "execution_count": 38,
     "metadata": {},
     "output_type": "execute_result"
    }
   ],
   "source": [
    "df.groupby('MBR_GENDER')['CLIENT_ID'].count()"
   ]
  },
  {
   "cell_type": "code",
   "execution_count": 39,
   "metadata": {
    "collapsed": false
   },
   "outputs": [
    {
     "data": {
      "text/plain": [
       "CCAR_TYPE\n",
       "1.0    302075\n",
       "2.0      2402\n",
       "3.0      1574\n",
       "7.0      1319\n",
       "Name: CLIENT_ID, dtype: int64"
      ]
     },
     "execution_count": 39,
     "metadata": {},
     "output_type": "execute_result"
    }
   ],
   "source": [
    "df.groupby('CCAR_TYPE')['CLIENT_ID'].count()"
   ]
  },
  {
   "cell_type": "code",
   "execution_count": 40,
   "metadata": {
    "collapsed": true
   },
   "outputs": [],
   "source": [
    "df = pd.get_dummies(data=df,columns=['PRV_TYP_DESC','SERVICE_TYPE','SERV_CODE_DESCRP','MEDICAID_ELIG_CAT',\n",
    "                                     'MBR_PRIMARY_LANGUAGE','MBR_GENDER','CCAR_TYPE']).head()"
   ]
  },
  {
   "cell_type": "code",
   "execution_count": 41,
   "metadata": {
    "collapsed": false
   },
   "outputs": [
    {
     "data": {
      "text/html": [
       "<div>\n",
       "<table border=\"1\" class=\"dataframe\">\n",
       "  <thead>\n",
       "    <tr style=\"text-align: right;\">\n",
       "      <th></th>\n",
       "      <th>HOUSING</th>\n",
       "      <th>LEVEL_OF_FUNCTIONING</th>\n",
       "      <th>SYMPTOM_SEVERITY</th>\n",
       "      <th>HOPE</th>\n",
       "      <th>MBR_AGE</th>\n",
       "      <th>MBR_ZIPCODE</th>\n",
       "      <th>SERVICE_UNITS</th>\n",
       "      <th>CHARGED_AMT</th>\n",
       "      <th>PAID_AMT</th>\n",
       "      <th>PROV_ZIPCODE</th>\n",
       "      <th>...</th>\n",
       "      <th>MBR_PRIMARY_LANGUAGE_RUSSIAN</th>\n",
       "      <th>MBR_PRIMARY_LANGUAGE_SIGN LANGUAGE</th>\n",
       "      <th>MBR_PRIMARY_LANGUAGE_SPANISH</th>\n",
       "      <th>MBR_GENDER_Female</th>\n",
       "      <th>MBR_GENDER_Male</th>\n",
       "      <th>MBR_GENDER_Unknown</th>\n",
       "      <th>CCAR_TYPE_1.0</th>\n",
       "      <th>CCAR_TYPE_2.0</th>\n",
       "      <th>CCAR_TYPE_3.0</th>\n",
       "      <th>CCAR_TYPE_7.0</th>\n",
       "    </tr>\n",
       "  </thead>\n",
       "  <tbody>\n",
       "    <tr>\n",
       "      <th>count</th>\n",
       "      <td>5.0</td>\n",
       "      <td>5.0</td>\n",
       "      <td>5.0</td>\n",
       "      <td>5.0</td>\n",
       "      <td>5.0</td>\n",
       "      <td>5.0</td>\n",
       "      <td>5.000000</td>\n",
       "      <td>5.000000</td>\n",
       "      <td>5.000000</td>\n",
       "      <td>5.0</td>\n",
       "      <td>...</td>\n",
       "      <td>5.0</td>\n",
       "      <td>5.0</td>\n",
       "      <td>5.0</td>\n",
       "      <td>5.0</td>\n",
       "      <td>5.0</td>\n",
       "      <td>5.0</td>\n",
       "      <td>5.0</td>\n",
       "      <td>5.0</td>\n",
       "      <td>5.0</td>\n",
       "      <td>5.0</td>\n",
       "    </tr>\n",
       "    <tr>\n",
       "      <th>mean</th>\n",
       "      <td>15.0</td>\n",
       "      <td>3.0</td>\n",
       "      <td>3.0</td>\n",
       "      <td>3.0</td>\n",
       "      <td>17.0</td>\n",
       "      <td>80304.0</td>\n",
       "      <td>1.400000</td>\n",
       "      <td>226.200000</td>\n",
       "      <td>224.200000</td>\n",
       "      <td>80304.0</td>\n",
       "      <td>...</td>\n",
       "      <td>0.0</td>\n",
       "      <td>0.0</td>\n",
       "      <td>0.0</td>\n",
       "      <td>1.0</td>\n",
       "      <td>0.0</td>\n",
       "      <td>0.0</td>\n",
       "      <td>1.0</td>\n",
       "      <td>0.0</td>\n",
       "      <td>0.0</td>\n",
       "      <td>0.0</td>\n",
       "    </tr>\n",
       "    <tr>\n",
       "      <th>std</th>\n",
       "      <td>0.0</td>\n",
       "      <td>0.0</td>\n",
       "      <td>0.0</td>\n",
       "      <td>0.0</td>\n",
       "      <td>0.0</td>\n",
       "      <td>0.0</td>\n",
       "      <td>0.894427</td>\n",
       "      <td>97.735357</td>\n",
       "      <td>96.719698</td>\n",
       "      <td>0.0</td>\n",
       "      <td>...</td>\n",
       "      <td>0.0</td>\n",
       "      <td>0.0</td>\n",
       "      <td>0.0</td>\n",
       "      <td>0.0</td>\n",
       "      <td>0.0</td>\n",
       "      <td>0.0</td>\n",
       "      <td>0.0</td>\n",
       "      <td>0.0</td>\n",
       "      <td>0.0</td>\n",
       "      <td>0.0</td>\n",
       "    </tr>\n",
       "    <tr>\n",
       "      <th>min</th>\n",
       "      <td>15.0</td>\n",
       "      <td>3.0</td>\n",
       "      <td>3.0</td>\n",
       "      <td>3.0</td>\n",
       "      <td>17.0</td>\n",
       "      <td>80304.0</td>\n",
       "      <td>1.000000</td>\n",
       "      <td>126.000000</td>\n",
       "      <td>125.000000</td>\n",
       "      <td>80304.0</td>\n",
       "      <td>...</td>\n",
       "      <td>0.0</td>\n",
       "      <td>0.0</td>\n",
       "      <td>0.0</td>\n",
       "      <td>1.0</td>\n",
       "      <td>0.0</td>\n",
       "      <td>0.0</td>\n",
       "      <td>1.0</td>\n",
       "      <td>0.0</td>\n",
       "      <td>0.0</td>\n",
       "      <td>0.0</td>\n",
       "    </tr>\n",
       "    <tr>\n",
       "      <th>25%</th>\n",
       "      <td>15.0</td>\n",
       "      <td>3.0</td>\n",
       "      <td>3.0</td>\n",
       "      <td>3.0</td>\n",
       "      <td>17.0</td>\n",
       "      <td>80304.0</td>\n",
       "      <td>1.000000</td>\n",
       "      <td>156.000000</td>\n",
       "      <td>154.000000</td>\n",
       "      <td>80304.0</td>\n",
       "      <td>...</td>\n",
       "      <td>0.0</td>\n",
       "      <td>0.0</td>\n",
       "      <td>0.0</td>\n",
       "      <td>1.0</td>\n",
       "      <td>0.0</td>\n",
       "      <td>0.0</td>\n",
       "      <td>1.0</td>\n",
       "      <td>0.0</td>\n",
       "      <td>0.0</td>\n",
       "      <td>0.0</td>\n",
       "    </tr>\n",
       "    <tr>\n",
       "      <th>50%</th>\n",
       "      <td>15.0</td>\n",
       "      <td>3.0</td>\n",
       "      <td>3.0</td>\n",
       "      <td>3.0</td>\n",
       "      <td>17.0</td>\n",
       "      <td>80304.0</td>\n",
       "      <td>1.000000</td>\n",
       "      <td>232.000000</td>\n",
       "      <td>231.000000</td>\n",
       "      <td>80304.0</td>\n",
       "      <td>...</td>\n",
       "      <td>0.0</td>\n",
       "      <td>0.0</td>\n",
       "      <td>0.0</td>\n",
       "      <td>1.0</td>\n",
       "      <td>0.0</td>\n",
       "      <td>0.0</td>\n",
       "      <td>1.0</td>\n",
       "      <td>0.0</td>\n",
       "      <td>0.0</td>\n",
       "      <td>0.0</td>\n",
       "    </tr>\n",
       "    <tr>\n",
       "      <th>75%</th>\n",
       "      <td>15.0</td>\n",
       "      <td>3.0</td>\n",
       "      <td>3.0</td>\n",
       "      <td>3.0</td>\n",
       "      <td>17.0</td>\n",
       "      <td>80304.0</td>\n",
       "      <td>1.000000</td>\n",
       "      <td>239.000000</td>\n",
       "      <td>237.000000</td>\n",
       "      <td>80304.0</td>\n",
       "      <td>...</td>\n",
       "      <td>0.0</td>\n",
       "      <td>0.0</td>\n",
       "      <td>0.0</td>\n",
       "      <td>1.0</td>\n",
       "      <td>0.0</td>\n",
       "      <td>0.0</td>\n",
       "      <td>1.0</td>\n",
       "      <td>0.0</td>\n",
       "      <td>0.0</td>\n",
       "      <td>0.0</td>\n",
       "    </tr>\n",
       "    <tr>\n",
       "      <th>max</th>\n",
       "      <td>15.0</td>\n",
       "      <td>3.0</td>\n",
       "      <td>3.0</td>\n",
       "      <td>3.0</td>\n",
       "      <td>17.0</td>\n",
       "      <td>80304.0</td>\n",
       "      <td>3.000000</td>\n",
       "      <td>378.000000</td>\n",
       "      <td>374.000000</td>\n",
       "      <td>80304.0</td>\n",
       "      <td>...</td>\n",
       "      <td>0.0</td>\n",
       "      <td>0.0</td>\n",
       "      <td>0.0</td>\n",
       "      <td>1.0</td>\n",
       "      <td>0.0</td>\n",
       "      <td>0.0</td>\n",
       "      <td>1.0</td>\n",
       "      <td>0.0</td>\n",
       "      <td>0.0</td>\n",
       "      <td>0.0</td>\n",
       "    </tr>\n",
       "  </tbody>\n",
       "</table>\n",
       "<p>8 rows × 122 columns</p>\n",
       "</div>"
      ],
      "text/plain": [
       "       HOUSING  LEVEL_OF_FUNCTIONING  SYMPTOM_SEVERITY  HOPE  MBR_AGE  \\\n",
       "count      5.0                   5.0               5.0   5.0      5.0   \n",
       "mean      15.0                   3.0               3.0   3.0     17.0   \n",
       "std        0.0                   0.0               0.0   0.0      0.0   \n",
       "min       15.0                   3.0               3.0   3.0     17.0   \n",
       "25%       15.0                   3.0               3.0   3.0     17.0   \n",
       "50%       15.0                   3.0               3.0   3.0     17.0   \n",
       "75%       15.0                   3.0               3.0   3.0     17.0   \n",
       "max       15.0                   3.0               3.0   3.0     17.0   \n",
       "\n",
       "       MBR_ZIPCODE  SERVICE_UNITS  CHARGED_AMT    PAID_AMT  PROV_ZIPCODE  \\\n",
       "count          5.0       5.000000     5.000000    5.000000           5.0   \n",
       "mean       80304.0       1.400000   226.200000  224.200000       80304.0   \n",
       "std            0.0       0.894427    97.735357   96.719698           0.0   \n",
       "min        80304.0       1.000000   126.000000  125.000000       80304.0   \n",
       "25%        80304.0       1.000000   156.000000  154.000000       80304.0   \n",
       "50%        80304.0       1.000000   232.000000  231.000000       80304.0   \n",
       "75%        80304.0       1.000000   239.000000  237.000000       80304.0   \n",
       "max        80304.0       3.000000   378.000000  374.000000       80304.0   \n",
       "\n",
       "           ...        MBR_PRIMARY_LANGUAGE_RUSSIAN  \\\n",
       "count      ...                                 5.0   \n",
       "mean       ...                                 0.0   \n",
       "std        ...                                 0.0   \n",
       "min        ...                                 0.0   \n",
       "25%        ...                                 0.0   \n",
       "50%        ...                                 0.0   \n",
       "75%        ...                                 0.0   \n",
       "max        ...                                 0.0   \n",
       "\n",
       "       MBR_PRIMARY_LANGUAGE_SIGN LANGUAGE  MBR_PRIMARY_LANGUAGE_SPANISH  \\\n",
       "count                                 5.0                           5.0   \n",
       "mean                                  0.0                           0.0   \n",
       "std                                   0.0                           0.0   \n",
       "min                                   0.0                           0.0   \n",
       "25%                                   0.0                           0.0   \n",
       "50%                                   0.0                           0.0   \n",
       "75%                                   0.0                           0.0   \n",
       "max                                   0.0                           0.0   \n",
       "\n",
       "       MBR_GENDER_Female  MBR_GENDER_Male  MBR_GENDER_Unknown  CCAR_TYPE_1.0  \\\n",
       "count                5.0              5.0                 5.0            5.0   \n",
       "mean                 1.0              0.0                 0.0            1.0   \n",
       "std                  0.0              0.0                 0.0            0.0   \n",
       "min                  1.0              0.0                 0.0            1.0   \n",
       "25%                  1.0              0.0                 0.0            1.0   \n",
       "50%                  1.0              0.0                 0.0            1.0   \n",
       "75%                  1.0              0.0                 0.0            1.0   \n",
       "max                  1.0              0.0                 0.0            1.0   \n",
       "\n",
       "       CCAR_TYPE_2.0  CCAR_TYPE_3.0  CCAR_TYPE_7.0  \n",
       "count            5.0            5.0            5.0  \n",
       "mean             0.0            0.0            0.0  \n",
       "std              0.0            0.0            0.0  \n",
       "min              0.0            0.0            0.0  \n",
       "25%              0.0            0.0            0.0  \n",
       "50%              0.0            0.0            0.0  \n",
       "75%              0.0            0.0            0.0  \n",
       "max              0.0            0.0            0.0  \n",
       "\n",
       "[8 rows x 122 columns]"
      ]
     },
     "execution_count": 41,
     "metadata": {},
     "output_type": "execute_result"
    }
   ],
   "source": [
    "df.describe()"
   ]
  },
  {
   "cell_type": "code",
   "execution_count": 43,
   "metadata": {
    "collapsed": false
   },
   "outputs": [
    {
     "data": {
      "text/plain": [
       "['CLIENT_ID',\n",
       " 'CCAR_DATE',\n",
       " 'HOUSING',\n",
       " 'LEVEL_OF_FUNCTIONING',\n",
       " 'SYMPTOM_SEVERITY',\n",
       " 'HOPE',\n",
       " 'MBR_AGE',\n",
       " 'MBR_ZIPCODE',\n",
       " 'SERVICE_DATE',\n",
       " 'SERVICE_CODE',\n",
       " 'DIAGNOSIS',\n",
       " 'SERVICE_UNITS',\n",
       " 'CHARGED_AMT',\n",
       " 'PAID_AMT',\n",
       " 'SERVICE_DURATION',\n",
       " 'ADMISSION_DATE',\n",
       " 'DISCHARGE_DATE',\n",
       " 'PROVIDER',\n",
       " 'PROV_CREDENTIALS',\n",
       " 'PROV_ZIPCODE',\n",
       " 'PROV_FLAG',\n",
       " 'CLAIM',\n",
       " 'PRV_TYP_DESC_COMMUNITY MENTAL HEALTH CENTER OR PUB HLTH AGENCY',\n",
       " 'PRV_TYP_DESC_PRACTITIONER',\n",
       " 'SERVICE_TYPE_ATU',\n",
       " 'SERVICE_TYPE_CASE MGT',\n",
       " 'SERVICE_TYPE_OUTPATIENT',\n",
       " 'SERVICE_TYPE_RESIDENTIAL',\n",
       " 'SERVICE_TYPE_RESPITE',\n",
       " 'SERVICE_TYPE_SUD',\n",
       " 'SERVICE_TYPE_VOCATIONAL',\n",
       " 'SERV_CODE_DESCRP_30-minute psychotherapy add-on code',\n",
       " 'SERV_CODE_DESCRP_Activity therapy, per 15 minutes',\n",
       " 'SERV_CODE_DESCRP_Alcohol and/or drug services; case management',\n",
       " 'SERV_CODE_DESCRP_Alcohol and/or drug services; group counseling by a clinician.  **A planned therapeutic or counseling activity conducted by a clinician with a group (i.e., more than 1 but not more than 12) of unrelated clients.  Activities are designed to assist clients and/or their families/significant others to achieve treatment objectives',\n",
       " 'SERV_CODE_DESCRP_Alcohol and/or drug services; intensive outpatient (treatment program that operates at least 3 hours/day and at least 3 days/week and is based on an individualized treatment plan), including assessment, counseling; crisis intervention, and activity therapies or education',\n",
       " 'SERV_CODE_DESCRP_Assertive community treatment, face-to-face, per 15 minutes',\n",
       " 'SERV_CODE_DESCRP_Behavioral Health Outreach services',\n",
       " 'SERV_CODE_DESCRP_Behavioral health counseling and therapy per 15 min',\n",
       " 'SERV_CODE_DESCRP_Behavioral health screening to determine eligibility for admission to treatment program',\n",
       " 'SERV_CODE_DESCRP_Behavioral health; short-term residential (non-Hospital residential treatment program), without room and board, per diem',\n",
       " 'SERV_CODE_DESCRP_CASE MANAGEMENT',\n",
       " 'SERV_CODE_DESCRP_Case management, each 15 minutes',\n",
       " 'SERV_CODE_DESCRP_Crisis intervention service, per 15 minutes',\n",
       " 'SERV_CODE_DESCRP_ELECTROCONVULSIVE THERAPY',\n",
       " 'SERV_CODE_DESCRP_ESTABLISHED PATIENT/EVALUATION',\n",
       " 'SERV_CODE_DESCRP_Established Patient office or outpatient visit - 10 min',\n",
       " 'SERV_CODE_DESCRP_Established Patient office or outpatient visit - 15 min',\n",
       " 'SERV_CODE_DESCRP_Established Patient office or outpatient visit - 25 min',\n",
       " 'SERV_CODE_DESCRP_Established Patient office or outpatient visit - 40 min',\n",
       " 'SERV_CODE_DESCRP_Evaluating of a client by a clinician to determine the presence, nature, and extent of the clients abuse, misuse, and/or addiction to AOD, with the goal of formulating a plan for services',\n",
       " 'SERV_CODE_DESCRP_FAMILY PSYCHOTHERAPY(WITH PATIENT PRESENT)',\n",
       " 'SERV_CODE_DESCRP_FAMILY PSYCHOTHERAPY(WITHOUT PATIENT PRESENT)',\n",
       " 'SERV_CODE_DESCRP_GROUP THERAPY(OTHER THAN MULTI-FAMILY)',\n",
       " 'SERV_CODE_DESCRP_HOSPITAL DISCHARGE DAY MANAGEMENT; 30 MINUTES OR',\n",
       " 'SERV_CODE_DESCRP_HOSPITAL DISCHARGE DAY MANAGEMENT; MORE THEN 30',\n",
       " 'SERV_CODE_DESCRP_Home care services requires expanded problem focused interval history, expanded problem focused examination low complexity medical decision making average time 25 minutes ,established patient',\n",
       " 'SERV_CODE_DESCRP_INPATIENT CONSULTATION/COMPREHENSIVE',\n",
       " 'SERV_CODE_DESCRP_INPATIENT CONSULTATION/DETAILED',\n",
       " 'SERV_CODE_DESCRP_Individual Psychotherapy, 45 min.',\n",
       " 'SERV_CODE_DESCRP_Individual Psychotherapy, 60 min.',\n",
       " 'SERV_CODE_DESCRP_Initial inpatient hospital care, new or established patient - 50 min',\n",
       " 'SERV_CODE_DESCRP_Initial inpatient hospital care, new or established patient - 70 min',\n",
       " 'SERV_CODE_DESCRP_Medication training and support, per 15 minutes',\n",
       " 'SERV_CODE_DESCRP_Mental Health Service plan developed by non physician',\n",
       " 'SERV_CODE_DESCRP_Mental health assessment, by non-Physician',\n",
       " 'SERV_CODE_DESCRP_Mental health clubhouse services, per 15 minutes',\n",
       " 'SERV_CODE_DESCRP_NUROLOGICAL TESTING',\n",
       " 'SERV_CODE_DESCRP_New Patient office or other outpatient visit - 10 min',\n",
       " 'SERV_CODE_DESCRP_New Patient office or other outpatient visit - 20 min',\n",
       " 'SERV_CODE_DESCRP_New Patient office or other outpatient visit - 30 min',\n",
       " 'SERV_CODE_DESCRP_New Patient office or other outpatient visit - 45 min',\n",
       " 'SERV_CODE_DESCRP_New Patient office or other outpatient visit - 60 min',\n",
       " 'SERV_CODE_DESCRP_Oral medication administration, direct observation',\n",
       " 'SERV_CODE_DESCRP_PARTIAL HOSPITALIZATION',\n",
       " 'SERV_CODE_DESCRP_Performance measurement, evaluation of patient self-assessment, depression',\n",
       " 'SERV_CODE_DESCRP_Personal care services, per 15 minutes, part of the individualized plan of treatment.    Provision of daily living needs including hydration, nutrition, cleanliness and toiletries for client',\n",
       " 'SERV_CODE_DESCRP_Physical Assessment of detoxification progression including vital signs monitoring.  Tx plan development or modification',\n",
       " 'SERV_CODE_DESCRP_Psychiatric diagnostic evaluation (with medical services)',\n",
       " 'SERV_CODE_DESCRP_Psychoeducational Services per 15 min.',\n",
       " 'SERV_CODE_DESCRP_Psychological Testing per hour of psychologist or physcian time, face to face or preparing report',\n",
       " 'SERV_CODE_DESCRP_Psychosocial rehabilitation services, per 15 minutes',\n",
       " 'SERV_CODE_DESCRP_Psychotherapy for crisis first 60 minutes',\n",
       " 'SERV_CODE_DESCRP_Psychotherapy, 30 minutes',\n",
       " 'SERV_CODE_DESCRP_Pyschiatric Diagnostic Evaluation (no medical services)',\n",
       " 'SERV_CODE_DESCRP_RESPITE',\n",
       " 'SERV_CODE_DESCRP_RESPITE CARE LEVEL C',\n",
       " 'SERV_CODE_DESCRP_Rest Home, Boarding Home, Custodial Care, New Patient - 15 min',\n",
       " 'SERV_CODE_DESCRP_Rest Home, Boarding Home, Custodial Care, New Patient - 20 min',\n",
       " 'SERV_CODE_DESCRP_Rest Home, Boarding Home, Custodial Care, New Patient - 25 min',\n",
       " 'SERV_CODE_DESCRP_Rest Home, Boarding Home, Custodial Care, New Patient - 30 min',\n",
       " 'SERV_CODE_DESCRP_Rest Home, Boarding Home, Custodial Care, New Patient - 40 min',\n",
       " 'SERV_CODE_DESCRP_Rest Home, Boarding Home, Custodial Care, New Patient - 45 min',\n",
       " 'SERV_CODE_DESCRP_Rest Home, Boarding Home, Custodial Care, New Patient - 60 min',\n",
       " 'SERV_CODE_DESCRP_Rest Home, Boarding Home, Custodial Care, New Patient - 75 min',\n",
       " 'SERV_CODE_DESCRP_Screening to determine the appropriateness of consideration of an individual for participation in a specified program, project, or treatment protocol, per encounter.  Level of motivation assessment for treatment evaluation.',\n",
       " 'SERV_CODE_DESCRP_Self-Help/peer services, per 15 minutes',\n",
       " 'SERV_CODE_DESCRP_Skills training and development, per 15 minutes',\n",
       " 'SERV_CODE_DESCRP_Smoking cessation classes, non-Physician provider, per session',\n",
       " 'SERV_CODE_DESCRP_Subsequent Nursing Facility Care, new or established patient - high complexity 35 min',\n",
       " 'SERV_CODE_DESCRP_Subsequent Nursing Facility Care, new or established patient - low complexity 15 min',\n",
       " 'SERV_CODE_DESCRP_Subsequent Nursing Facility Care, new or established patient - medium complexity 25 min',\n",
       " 'SERV_CODE_DESCRP_Subsequent hospital care, new or established patient - 15 min',\n",
       " 'SERV_CODE_DESCRP_Subsequent hospital care, new or established patient - 25 min',\n",
       " 'SERV_CODE_DESCRP_Subsequent hospital care, new or established patient - 35 min',\n",
       " 'SERV_CODE_DESCRP_Supported employment, per 15 minutes',\n",
       " 'SERV_CODE_DESCRP_Targeted case management, each 15 minutes',\n",
       " 'SERV_CODE_DESCRP_Telephone evaluation and management service provided by a physician to an established patient, parent, or guardian; 11-20 minutes',\n",
       " 'SERV_CODE_DESCRP_Telephone evaluation and management service provided by a physician to an established patient, parent, or guardian; 21-30 minutes',\n",
       " 'SERV_CODE_DESCRP_Therapeutic or diagnostic injection (specify substance or drug); subcutaneous or intramuscular.',\n",
       " 'SERV_CODE_DESCRP_UNSKILLED RESPITE CARE PER DIEM',\n",
       " 'SERV_CODE_DESCRP_Unskilled Respite',\n",
       " 'SERV_CODE_DESCRP_VOCATIONAL SERVICES',\n",
       " 'SERV_CODE_DESCRP_interactive complexity add-on code',\n",
       " 'MEDICAID_ELIG_CAT_ADULT',\n",
       " 'MEDICAID_ELIG_CAT_AwDC',\n",
       " 'MEDICAID_ELIG_CAT_CHILD',\n",
       " 'MEDICAID_ELIG_CAT_DISABLED',\n",
       " 'MEDICAID_ELIG_CAT_ELDERLY',\n",
       " 'MEDICAID_ELIG_CAT_FOSTER CARE',\n",
       " 'MEDICAID_ELIG_CAT_OTHER',\n",
       " 'MBR_PRIMARY_LANGUAGE_ENGLISH',\n",
       " 'MBR_PRIMARY_LANGUAGE_PERSIAN',\n",
       " 'MBR_PRIMARY_LANGUAGE_RUSSIAN',\n",
       " 'MBR_PRIMARY_LANGUAGE_SIGN LANGUAGE',\n",
       " 'MBR_PRIMARY_LANGUAGE_SPANISH',\n",
       " 'MBR_GENDER_Female',\n",
       " 'MBR_GENDER_Male',\n",
       " 'MBR_GENDER_Unknown',\n",
       " 'CCAR_TYPE_1.0',\n",
       " 'CCAR_TYPE_2.0',\n",
       " 'CCAR_TYPE_3.0',\n",
       " 'CCAR_TYPE_7.0']"
      ]
     },
     "execution_count": 43,
     "metadata": {},
     "output_type": "execute_result"
    }
   ],
   "source": [
    "list(df)"
   ]
  },
  {
   "cell_type": "code",
   "execution_count": 45,
   "metadata": {
    "collapsed": false
   },
   "outputs": [],
   "source": [
    "cor = df.corr()"
   ]
  },
  {
   "cell_type": "code",
   "execution_count": 47,
   "metadata": {
    "collapsed": false
   },
   "outputs": [],
   "source": [
    "cor = cor.dropna(axis=1, how='all')"
   ]
  },
  {
   "cell_type": "code",
   "execution_count": 49,
   "metadata": {
    "collapsed": false
   },
   "outputs": [
    {
     "data": {
      "text/html": [
       "<div>\n",
       "<table border=\"1\" class=\"dataframe\">\n",
       "  <thead>\n",
       "    <tr style=\"text-align: right;\">\n",
       "      <th></th>\n",
       "      <th>SERVICE_UNITS</th>\n",
       "      <th>CHARGED_AMT</th>\n",
       "      <th>PAID_AMT</th>\n",
       "      <th>SERVICE_TYPE_CASE MGT</th>\n",
       "      <th>SERVICE_TYPE_OUTPATIENT</th>\n",
       "      <th>SERV_CODE_DESCRP_CASE MANAGEMENT</th>\n",
       "      <th>SERV_CODE_DESCRP_Crisis intervention service, per 15 minutes</th>\n",
       "      <th>SERV_CODE_DESCRP_Established Patient office or outpatient visit - 15 min</th>\n",
       "      <th>SERV_CODE_DESCRP_Established Patient office or outpatient visit - 25 min</th>\n",
       "    </tr>\n",
       "  </thead>\n",
       "  <tbody>\n",
       "    <tr>\n",
       "      <th>SERVICE_UNITS</th>\n",
       "      <td>1.000000</td>\n",
       "      <td>0.868251</td>\n",
       "      <td>0.865809</td>\n",
       "      <td>-0.250000</td>\n",
       "      <td>0.250000</td>\n",
       "      <td>-0.250000</td>\n",
       "      <td>0.612372</td>\n",
       "      <td>-0.250000</td>\n",
       "      <td>-0.250000</td>\n",
       "    </tr>\n",
       "    <tr>\n",
       "      <th>CHARGED_AMT</th>\n",
       "      <td>0.868251</td>\n",
       "      <td>1.000000</td>\n",
       "      <td>0.999975</td>\n",
       "      <td>0.033174</td>\n",
       "      <td>-0.033174</td>\n",
       "      <td>0.033174</td>\n",
       "      <td>0.240978</td>\n",
       "      <td>-0.401523</td>\n",
       "      <td>0.073212</td>\n",
       "    </tr>\n",
       "    <tr>\n",
       "      <th>PAID_AMT</th>\n",
       "      <td>0.865809</td>\n",
       "      <td>0.999975</td>\n",
       "      <td>1.000000</td>\n",
       "      <td>0.039302</td>\n",
       "      <td>-0.039302</td>\n",
       "      <td>0.039302</td>\n",
       "      <td>0.238789</td>\n",
       "      <td>-0.405739</td>\n",
       "      <td>0.073981</td>\n",
       "    </tr>\n",
       "    <tr>\n",
       "      <th>SERVICE_TYPE_CASE MGT</th>\n",
       "      <td>-0.250000</td>\n",
       "      <td>0.033174</td>\n",
       "      <td>0.039302</td>\n",
       "      <td>1.000000</td>\n",
       "      <td>-1.000000</td>\n",
       "      <td>1.000000</td>\n",
       "      <td>-0.408248</td>\n",
       "      <td>-0.250000</td>\n",
       "      <td>-0.250000</td>\n",
       "    </tr>\n",
       "    <tr>\n",
       "      <th>SERVICE_TYPE_OUTPATIENT</th>\n",
       "      <td>0.250000</td>\n",
       "      <td>-0.033174</td>\n",
       "      <td>-0.039302</td>\n",
       "      <td>-1.000000</td>\n",
       "      <td>1.000000</td>\n",
       "      <td>-1.000000</td>\n",
       "      <td>0.408248</td>\n",
       "      <td>0.250000</td>\n",
       "      <td>0.250000</td>\n",
       "    </tr>\n",
       "    <tr>\n",
       "      <th>SERV_CODE_DESCRP_CASE MANAGEMENT</th>\n",
       "      <td>-0.250000</td>\n",
       "      <td>0.033174</td>\n",
       "      <td>0.039302</td>\n",
       "      <td>1.000000</td>\n",
       "      <td>-1.000000</td>\n",
       "      <td>1.000000</td>\n",
       "      <td>-0.408248</td>\n",
       "      <td>-0.250000</td>\n",
       "      <td>-0.250000</td>\n",
       "    </tr>\n",
       "    <tr>\n",
       "      <th>SERV_CODE_DESCRP_Crisis intervention service, per 15 minutes</th>\n",
       "      <td>0.612372</td>\n",
       "      <td>0.240978</td>\n",
       "      <td>0.238789</td>\n",
       "      <td>-0.408248</td>\n",
       "      <td>0.408248</td>\n",
       "      <td>-0.408248</td>\n",
       "      <td>1.000000</td>\n",
       "      <td>-0.408248</td>\n",
       "      <td>-0.408248</td>\n",
       "    </tr>\n",
       "    <tr>\n",
       "      <th>SERV_CODE_DESCRP_Established Patient office or outpatient visit - 15 min</th>\n",
       "      <td>-0.250000</td>\n",
       "      <td>-0.401523</td>\n",
       "      <td>-0.405739</td>\n",
       "      <td>-0.250000</td>\n",
       "      <td>0.250000</td>\n",
       "      <td>-0.250000</td>\n",
       "      <td>-0.408248</td>\n",
       "      <td>1.000000</td>\n",
       "      <td>-0.250000</td>\n",
       "    </tr>\n",
       "    <tr>\n",
       "      <th>SERV_CODE_DESCRP_Established Patient office or outpatient visit - 25 min</th>\n",
       "      <td>-0.250000</td>\n",
       "      <td>0.073212</td>\n",
       "      <td>0.073981</td>\n",
       "      <td>-0.250000</td>\n",
       "      <td>0.250000</td>\n",
       "      <td>-0.250000</td>\n",
       "      <td>-0.408248</td>\n",
       "      <td>-0.250000</td>\n",
       "      <td>1.000000</td>\n",
       "    </tr>\n",
       "  </tbody>\n",
       "</table>\n",
       "</div>"
      ],
      "text/plain": [
       "                                                    SERVICE_UNITS  \\\n",
       "SERVICE_UNITS                                            1.000000   \n",
       "CHARGED_AMT                                              0.868251   \n",
       "PAID_AMT                                                 0.865809   \n",
       "SERVICE_TYPE_CASE MGT                                   -0.250000   \n",
       "SERVICE_TYPE_OUTPATIENT                                  0.250000   \n",
       "SERV_CODE_DESCRP_CASE MANAGEMENT                        -0.250000   \n",
       "SERV_CODE_DESCRP_Crisis intervention service, p...       0.612372   \n",
       "SERV_CODE_DESCRP_Established Patient office or ...      -0.250000   \n",
       "SERV_CODE_DESCRP_Established Patient office or ...      -0.250000   \n",
       "\n",
       "                                                    CHARGED_AMT  PAID_AMT  \\\n",
       "SERVICE_UNITS                                          0.868251  0.865809   \n",
       "CHARGED_AMT                                            1.000000  0.999975   \n",
       "PAID_AMT                                               0.999975  1.000000   \n",
       "SERVICE_TYPE_CASE MGT                                  0.033174  0.039302   \n",
       "SERVICE_TYPE_OUTPATIENT                               -0.033174 -0.039302   \n",
       "SERV_CODE_DESCRP_CASE MANAGEMENT                       0.033174  0.039302   \n",
       "SERV_CODE_DESCRP_Crisis intervention service, p...     0.240978  0.238789   \n",
       "SERV_CODE_DESCRP_Established Patient office or ...    -0.401523 -0.405739   \n",
       "SERV_CODE_DESCRP_Established Patient office or ...     0.073212  0.073981   \n",
       "\n",
       "                                                    SERVICE_TYPE_CASE MGT  \\\n",
       "SERVICE_UNITS                                                   -0.250000   \n",
       "CHARGED_AMT                                                      0.033174   \n",
       "PAID_AMT                                                         0.039302   \n",
       "SERVICE_TYPE_CASE MGT                                            1.000000   \n",
       "SERVICE_TYPE_OUTPATIENT                                         -1.000000   \n",
       "SERV_CODE_DESCRP_CASE MANAGEMENT                                 1.000000   \n",
       "SERV_CODE_DESCRP_Crisis intervention service, p...              -0.408248   \n",
       "SERV_CODE_DESCRP_Established Patient office or ...              -0.250000   \n",
       "SERV_CODE_DESCRP_Established Patient office or ...              -0.250000   \n",
       "\n",
       "                                                    SERVICE_TYPE_OUTPATIENT  \\\n",
       "SERVICE_UNITS                                                      0.250000   \n",
       "CHARGED_AMT                                                       -0.033174   \n",
       "PAID_AMT                                                          -0.039302   \n",
       "SERVICE_TYPE_CASE MGT                                             -1.000000   \n",
       "SERVICE_TYPE_OUTPATIENT                                            1.000000   \n",
       "SERV_CODE_DESCRP_CASE MANAGEMENT                                  -1.000000   \n",
       "SERV_CODE_DESCRP_Crisis intervention service, p...                 0.408248   \n",
       "SERV_CODE_DESCRP_Established Patient office or ...                 0.250000   \n",
       "SERV_CODE_DESCRP_Established Patient office or ...                 0.250000   \n",
       "\n",
       "                                                    SERV_CODE_DESCRP_CASE MANAGEMENT  \\\n",
       "SERVICE_UNITS                                                              -0.250000   \n",
       "CHARGED_AMT                                                                 0.033174   \n",
       "PAID_AMT                                                                    0.039302   \n",
       "SERVICE_TYPE_CASE MGT                                                       1.000000   \n",
       "SERVICE_TYPE_OUTPATIENT                                                    -1.000000   \n",
       "SERV_CODE_DESCRP_CASE MANAGEMENT                                            1.000000   \n",
       "SERV_CODE_DESCRP_Crisis intervention service, p...                         -0.408248   \n",
       "SERV_CODE_DESCRP_Established Patient office or ...                         -0.250000   \n",
       "SERV_CODE_DESCRP_Established Patient office or ...                         -0.250000   \n",
       "\n",
       "                                                    SERV_CODE_DESCRP_Crisis intervention service, per 15 minutes  \\\n",
       "SERVICE_UNITS                                                                                0.612372              \n",
       "CHARGED_AMT                                                                                  0.240978              \n",
       "PAID_AMT                                                                                     0.238789              \n",
       "SERVICE_TYPE_CASE MGT                                                                       -0.408248              \n",
       "SERVICE_TYPE_OUTPATIENT                                                                      0.408248              \n",
       "SERV_CODE_DESCRP_CASE MANAGEMENT                                                            -0.408248              \n",
       "SERV_CODE_DESCRP_Crisis intervention service, p...                                           1.000000              \n",
       "SERV_CODE_DESCRP_Established Patient office or ...                                          -0.408248              \n",
       "SERV_CODE_DESCRP_Established Patient office or ...                                          -0.408248              \n",
       "\n",
       "                                                    SERV_CODE_DESCRP_Established Patient office or outpatient visit - 15 min  \\\n",
       "SERVICE_UNITS                                                                               -0.250000                          \n",
       "CHARGED_AMT                                                                                 -0.401523                          \n",
       "PAID_AMT                                                                                    -0.405739                          \n",
       "SERVICE_TYPE_CASE MGT                                                                       -0.250000                          \n",
       "SERVICE_TYPE_OUTPATIENT                                                                      0.250000                          \n",
       "SERV_CODE_DESCRP_CASE MANAGEMENT                                                            -0.250000                          \n",
       "SERV_CODE_DESCRP_Crisis intervention service, p...                                          -0.408248                          \n",
       "SERV_CODE_DESCRP_Established Patient office or ...                                           1.000000                          \n",
       "SERV_CODE_DESCRP_Established Patient office or ...                                          -0.250000                          \n",
       "\n",
       "                                                    SERV_CODE_DESCRP_Established Patient office or outpatient visit - 25 min  \n",
       "SERVICE_UNITS                                                                               -0.250000                         \n",
       "CHARGED_AMT                                                                                  0.073212                         \n",
       "PAID_AMT                                                                                     0.073981                         \n",
       "SERVICE_TYPE_CASE MGT                                                                       -0.250000                         \n",
       "SERVICE_TYPE_OUTPATIENT                                                                      0.250000                         \n",
       "SERV_CODE_DESCRP_CASE MANAGEMENT                                                            -0.250000                         \n",
       "SERV_CODE_DESCRP_Crisis intervention service, p...                                          -0.408248                         \n",
       "SERV_CODE_DESCRP_Established Patient office or ...                                          -0.250000                         \n",
       "SERV_CODE_DESCRP_Established Patient office or ...                                           1.000000                         "
      ]
     },
     "execution_count": 49,
     "metadata": {},
     "output_type": "execute_result"
    }
   ],
   "source": [
    "cor = cor.dropna(axis=0, how='all')\n",
    "cor"
   ]
  },
  {
   "cell_type": "markdown",
   "metadata": {},
   "source": [
    "Drop SERVICE_UNITS and CHARGED_AMT"
   ]
  },
  {
   "cell_type": "code",
   "execution_count": 54,
   "metadata": {
    "collapsed": false
   },
   "outputs": [],
   "source": [
    "df2 = df.drop('SERVICE_UNITS', axis=1)"
   ]
  },
  {
   "cell_type": "code",
   "execution_count": 55,
   "metadata": {
    "collapsed": true
   },
   "outputs": [],
   "source": [
    "df2 = df2.drop('CHARGED_AMT', axis=1)"
   ]
  },
  {
   "cell_type": "markdown",
   "metadata": {},
   "source": [
    "Calculate distance (in days) between:<br>\n",
    "<li>CCAR_DATE - SERVICE_DATE\n",
    "<li>DISCHARGE DATE - ADMISSION DATE\n",
    "<br><br>\n",
    "(Remove any negatives?)"
   ]
  },
  {
   "cell_type": "code",
   "execution_count": 58,
   "metadata": {
    "collapsed": false
   },
   "outputs": [
    {
     "data": {
      "text/plain": [
       "<bound method Series.describe of 32     1/8/2015\n",
       "33    2/12/2015\n",
       "34    3/11/2015\n",
       "36    3/12/2015\n",
       "37    3/12/2015\n",
       "Name: SERVICE_DATE, dtype: object>"
      ]
     },
     "execution_count": 58,
     "metadata": {},
     "output_type": "execute_result"
    }
   ],
   "source": [
    "df2.SERVICE_DATE.describe"
   ]
  },
  {
   "cell_type": "code",
   "execution_count": 60,
   "metadata": {
    "collapsed": true
   },
   "outputs": [],
   "source": [
    "df2['SERVICE_DATE'] = pd.to_datetime(df2['SERVICE_DATE'])"
   ]
  },
  {
   "cell_type": "code",
   "execution_count": 61,
   "metadata": {
    "collapsed": false
   },
   "outputs": [
    {
     "data": {
      "text/plain": [
       "<bound method Series.describe of 32   2015-01-08\n",
       "33   2015-02-12\n",
       "34   2015-03-11\n",
       "36   2015-03-12\n",
       "37   2015-03-12\n",
       "Name: SERVICE_DATE, dtype: datetime64[ns]>"
      ]
     },
     "execution_count": 61,
     "metadata": {},
     "output_type": "execute_result"
    }
   ],
   "source": [
    "df2.SERVICE_DATE.describe"
   ]
  },
  {
   "cell_type": "code",
   "execution_count": 62,
   "metadata": {
    "collapsed": true
   },
   "outputs": [],
   "source": [
    "df2['CCAR_DATE'] = pd.to_datetime(df2['CCAR_DATE'])"
   ]
  },
  {
   "cell_type": "code",
   "execution_count": 63,
   "metadata": {
    "collapsed": false
   },
   "outputs": [],
   "source": [
    "df2.loc[:,'DAYS_TO_SERVICE'] = (df2.SERVICE_DATE - df2.CCAR_DATE).astype('timedelta64[h]')"
   ]
  },
  {
   "cell_type": "code",
   "execution_count": 65,
   "metadata": {
    "collapsed": true
   },
   "outputs": [],
   "source": [
    "df2['DAYS_TO_SERVICE'] = (df2.DAYS_TO_SERVICE / 24)"
   ]
  },
  {
   "cell_type": "code",
   "execution_count": 66,
   "metadata": {
    "collapsed": false
   },
   "outputs": [
    {
     "data": {
      "text/html": [
       "<div>\n",
       "<table border=\"1\" class=\"dataframe\">\n",
       "  <thead>\n",
       "    <tr style=\"text-align: right;\">\n",
       "      <th></th>\n",
       "      <th>CLIENT_ID</th>\n",
       "      <th>CCAR_DATE</th>\n",
       "      <th>HOUSING</th>\n",
       "      <th>LEVEL_OF_FUNCTIONING</th>\n",
       "      <th>SYMPTOM_SEVERITY</th>\n",
       "      <th>HOPE</th>\n",
       "      <th>MBR_AGE</th>\n",
       "      <th>MBR_ZIPCODE</th>\n",
       "      <th>SERVICE_DATE</th>\n",
       "      <th>SERVICE_CODE</th>\n",
       "      <th>...</th>\n",
       "      <th>MBR_PRIMARY_LANGUAGE_SIGN LANGUAGE</th>\n",
       "      <th>MBR_PRIMARY_LANGUAGE_SPANISH</th>\n",
       "      <th>MBR_GENDER_Female</th>\n",
       "      <th>MBR_GENDER_Male</th>\n",
       "      <th>MBR_GENDER_Unknown</th>\n",
       "      <th>CCAR_TYPE_1.0</th>\n",
       "      <th>CCAR_TYPE_2.0</th>\n",
       "      <th>CCAR_TYPE_3.0</th>\n",
       "      <th>CCAR_TYPE_7.0</th>\n",
       "      <th>DAYS_TO_SERVICE</th>\n",
       "    </tr>\n",
       "  </thead>\n",
       "  <tbody>\n",
       "    <tr>\n",
       "      <th>32</th>\n",
       "      <td>22655622722713</td>\n",
       "      <td>2015-04-15</td>\n",
       "      <td>15</td>\n",
       "      <td>3</td>\n",
       "      <td>3</td>\n",
       "      <td>3</td>\n",
       "      <td>17.0</td>\n",
       "      <td>80304.0</td>\n",
       "      <td>2015-01-08</td>\n",
       "      <td>99214</td>\n",
       "      <td>...</td>\n",
       "      <td>0</td>\n",
       "      <td>0</td>\n",
       "      <td>1</td>\n",
       "      <td>0</td>\n",
       "      <td>0</td>\n",
       "      <td>1</td>\n",
       "      <td>0</td>\n",
       "      <td>0</td>\n",
       "      <td>0</td>\n",
       "      <td>-97.0</td>\n",
       "    </tr>\n",
       "    <tr>\n",
       "      <th>33</th>\n",
       "      <td>22655622722713</td>\n",
       "      <td>2015-04-15</td>\n",
       "      <td>15</td>\n",
       "      <td>3</td>\n",
       "      <td>3</td>\n",
       "      <td>3</td>\n",
       "      <td>17.0</td>\n",
       "      <td>80304.0</td>\n",
       "      <td>2015-02-12</td>\n",
       "      <td>99213</td>\n",
       "      <td>...</td>\n",
       "      <td>0</td>\n",
       "      <td>0</td>\n",
       "      <td>1</td>\n",
       "      <td>0</td>\n",
       "      <td>0</td>\n",
       "      <td>1</td>\n",
       "      <td>0</td>\n",
       "      <td>0</td>\n",
       "      <td>0</td>\n",
       "      <td>-62.0</td>\n",
       "    </tr>\n",
       "    <tr>\n",
       "      <th>34</th>\n",
       "      <td>22655622722713</td>\n",
       "      <td>2015-04-15</td>\n",
       "      <td>15</td>\n",
       "      <td>3</td>\n",
       "      <td>3</td>\n",
       "      <td>3</td>\n",
       "      <td>17.0</td>\n",
       "      <td>80304.0</td>\n",
       "      <td>2015-03-11</td>\n",
       "      <td>H2011</td>\n",
       "      <td>...</td>\n",
       "      <td>0</td>\n",
       "      <td>0</td>\n",
       "      <td>1</td>\n",
       "      <td>0</td>\n",
       "      <td>0</td>\n",
       "      <td>1</td>\n",
       "      <td>0</td>\n",
       "      <td>0</td>\n",
       "      <td>0</td>\n",
       "      <td>-35.0</td>\n",
       "    </tr>\n",
       "    <tr>\n",
       "      <th>36</th>\n",
       "      <td>22655622722713</td>\n",
       "      <td>2015-04-15</td>\n",
       "      <td>15</td>\n",
       "      <td>3</td>\n",
       "      <td>3</td>\n",
       "      <td>3</td>\n",
       "      <td>17.0</td>\n",
       "      <td>80304.0</td>\n",
       "      <td>2015-03-12</td>\n",
       "      <td>90887</td>\n",
       "      <td>...</td>\n",
       "      <td>0</td>\n",
       "      <td>0</td>\n",
       "      <td>1</td>\n",
       "      <td>0</td>\n",
       "      <td>0</td>\n",
       "      <td>1</td>\n",
       "      <td>0</td>\n",
       "      <td>0</td>\n",
       "      <td>0</td>\n",
       "      <td>-34.0</td>\n",
       "    </tr>\n",
       "    <tr>\n",
       "      <th>37</th>\n",
       "      <td>22655622722713</td>\n",
       "      <td>2015-04-15</td>\n",
       "      <td>15</td>\n",
       "      <td>3</td>\n",
       "      <td>3</td>\n",
       "      <td>3</td>\n",
       "      <td>17.0</td>\n",
       "      <td>80304.0</td>\n",
       "      <td>2015-03-12</td>\n",
       "      <td>H2011</td>\n",
       "      <td>...</td>\n",
       "      <td>0</td>\n",
       "      <td>0</td>\n",
       "      <td>1</td>\n",
       "      <td>0</td>\n",
       "      <td>0</td>\n",
       "      <td>1</td>\n",
       "      <td>0</td>\n",
       "      <td>0</td>\n",
       "      <td>0</td>\n",
       "      <td>-34.0</td>\n",
       "    </tr>\n",
       "  </tbody>\n",
       "</table>\n",
       "<p>5 rows × 132 columns</p>\n",
       "</div>"
      ],
      "text/plain": [
       "         CLIENT_ID  CCAR_DATE  HOUSING  LEVEL_OF_FUNCTIONING  \\\n",
       "32  22655622722713 2015-04-15       15                     3   \n",
       "33  22655622722713 2015-04-15       15                     3   \n",
       "34  22655622722713 2015-04-15       15                     3   \n",
       "36  22655622722713 2015-04-15       15                     3   \n",
       "37  22655622722713 2015-04-15       15                     3   \n",
       "\n",
       "    SYMPTOM_SEVERITY  HOPE  MBR_AGE  MBR_ZIPCODE SERVICE_DATE SERVICE_CODE  \\\n",
       "32                 3     3     17.0      80304.0   2015-01-08        99214   \n",
       "33                 3     3     17.0      80304.0   2015-02-12        99213   \n",
       "34                 3     3     17.0      80304.0   2015-03-11        H2011   \n",
       "36                 3     3     17.0      80304.0   2015-03-12        90887   \n",
       "37                 3     3     17.0      80304.0   2015-03-12        H2011   \n",
       "\n",
       "         ...        MBR_PRIMARY_LANGUAGE_SIGN LANGUAGE  \\\n",
       "32       ...                                         0   \n",
       "33       ...                                         0   \n",
       "34       ...                                         0   \n",
       "36       ...                                         0   \n",
       "37       ...                                         0   \n",
       "\n",
       "    MBR_PRIMARY_LANGUAGE_SPANISH MBR_GENDER_Female MBR_GENDER_Male  \\\n",
       "32                             0                 1               0   \n",
       "33                             0                 1               0   \n",
       "34                             0                 1               0   \n",
       "36                             0                 1               0   \n",
       "37                             0                 1               0   \n",
       "\n",
       "   MBR_GENDER_Unknown CCAR_TYPE_1.0 CCAR_TYPE_2.0  CCAR_TYPE_3.0  \\\n",
       "32                  0             1             0              0   \n",
       "33                  0             1             0              0   \n",
       "34                  0             1             0              0   \n",
       "36                  0             1             0              0   \n",
       "37                  0             1             0              0   \n",
       "\n",
       "   CCAR_TYPE_7.0  DAYS_TO_SERVICE  \n",
       "32             0            -97.0  \n",
       "33             0            -62.0  \n",
       "34             0            -35.0  \n",
       "36             0            -34.0  \n",
       "37             0            -34.0  \n",
       "\n",
       "[5 rows x 132 columns]"
      ]
     },
     "execution_count": 66,
     "metadata": {},
     "output_type": "execute_result"
    }
   ],
   "source": [
    "df2.head()"
   ]
  },
  {
   "cell_type": "code",
   "execution_count": 73,
   "metadata": {
    "collapsed": false
   },
   "outputs": [
    {
     "data": {
      "text/plain": [
       "32     \n",
       "33     \n",
       "34     \n",
       "36     \n",
       "37     \n",
       "Name: ADMISSION_DATE, dtype: object"
      ]
     },
     "execution_count": 73,
     "metadata": {},
     "output_type": "execute_result"
    }
   ],
   "source": [
    "df2['ADMISSION_DATE']"
   ]
  },
  {
   "cell_type": "code",
   "execution_count": 72,
   "metadata": {
    "collapsed": false
   },
   "outputs": [
    {
     "data": {
      "text/plain": [
       "32     \n",
       "33     \n",
       "34     \n",
       "36     \n",
       "37     \n",
       "Name: DISCHARGE_DATE, dtype: object"
      ]
     },
     "execution_count": 72,
     "metadata": {},
     "output_type": "execute_result"
    }
   ],
   "source": [
    "df2['DISCHARGE_DATE']"
   ]
  },
  {
   "cell_type": "code",
   "execution_count": 67,
   "metadata": {
    "collapsed": false
   },
   "outputs": [
    {
     "data": {
      "text/plain": [
       "['CLIENT_ID',\n",
       " 'CCAR_DATE',\n",
       " 'HOUSING',\n",
       " 'LEVEL_OF_FUNCTIONING',\n",
       " 'SYMPTOM_SEVERITY',\n",
       " 'HOPE',\n",
       " 'MBR_AGE',\n",
       " 'MBR_ZIPCODE',\n",
       " 'SERVICE_DATE',\n",
       " 'SERVICE_CODE',\n",
       " 'DIAGNOSIS',\n",
       " 'PAID_AMT',\n",
       " 'SERVICE_DURATION',\n",
       " 'ADMISSION_DATE',\n",
       " 'DISCHARGE_DATE',\n",
       " 'PROVIDER',\n",
       " 'PROV_CREDENTIALS',\n",
       " 'PROV_ZIPCODE',\n",
       " 'PROV_FLAG',\n",
       " 'CLAIM',\n",
       " 'PRV_TYP_DESC_COMMUNITY MENTAL HEALTH CENTER OR PUB HLTH AGENCY',\n",
       " 'PRV_TYP_DESC_PRACTITIONER',\n",
       " 'SERVICE_TYPE_ATU',\n",
       " 'SERVICE_TYPE_CASE MGT',\n",
       " 'SERVICE_TYPE_OUTPATIENT',\n",
       " 'SERVICE_TYPE_RESIDENTIAL',\n",
       " 'SERVICE_TYPE_RESPITE',\n",
       " 'SERVICE_TYPE_SUD',\n",
       " 'SERVICE_TYPE_VOCATIONAL',\n",
       " 'SERV_CODE_DESCRP_30-minute psychotherapy add-on code',\n",
       " 'SERV_CODE_DESCRP_Activity therapy, per 15 minutes',\n",
       " 'SERV_CODE_DESCRP_Alcohol and/or drug services; case management',\n",
       " 'SERV_CODE_DESCRP_Alcohol and/or drug services; group counseling by a clinician.  **A planned therapeutic or counseling activity conducted by a clinician with a group (i.e., more than 1 but not more than 12) of unrelated clients.  Activities are designed to assist clients and/or their families/significant others to achieve treatment objectives',\n",
       " 'SERV_CODE_DESCRP_Alcohol and/or drug services; intensive outpatient (treatment program that operates at least 3 hours/day and at least 3 days/week and is based on an individualized treatment plan), including assessment, counseling; crisis intervention, and activity therapies or education',\n",
       " 'SERV_CODE_DESCRP_Assertive community treatment, face-to-face, per 15 minutes',\n",
       " 'SERV_CODE_DESCRP_Behavioral Health Outreach services',\n",
       " 'SERV_CODE_DESCRP_Behavioral health counseling and therapy per 15 min',\n",
       " 'SERV_CODE_DESCRP_Behavioral health screening to determine eligibility for admission to treatment program',\n",
       " 'SERV_CODE_DESCRP_Behavioral health; short-term residential (non-Hospital residential treatment program), without room and board, per diem',\n",
       " 'SERV_CODE_DESCRP_CASE MANAGEMENT',\n",
       " 'SERV_CODE_DESCRP_Case management, each 15 minutes',\n",
       " 'SERV_CODE_DESCRP_Crisis intervention service, per 15 minutes',\n",
       " 'SERV_CODE_DESCRP_ELECTROCONVULSIVE THERAPY',\n",
       " 'SERV_CODE_DESCRP_ESTABLISHED PATIENT/EVALUATION',\n",
       " 'SERV_CODE_DESCRP_Established Patient office or outpatient visit - 10 min',\n",
       " 'SERV_CODE_DESCRP_Established Patient office or outpatient visit - 15 min',\n",
       " 'SERV_CODE_DESCRP_Established Patient office or outpatient visit - 25 min',\n",
       " 'SERV_CODE_DESCRP_Established Patient office or outpatient visit - 40 min',\n",
       " 'SERV_CODE_DESCRP_Evaluating of a client by a clinician to determine the presence, nature, and extent of the clients abuse, misuse, and/or addiction to AOD, with the goal of formulating a plan for services',\n",
       " 'SERV_CODE_DESCRP_FAMILY PSYCHOTHERAPY(WITH PATIENT PRESENT)',\n",
       " 'SERV_CODE_DESCRP_FAMILY PSYCHOTHERAPY(WITHOUT PATIENT PRESENT)',\n",
       " 'SERV_CODE_DESCRP_GROUP THERAPY(OTHER THAN MULTI-FAMILY)',\n",
       " 'SERV_CODE_DESCRP_HOSPITAL DISCHARGE DAY MANAGEMENT; 30 MINUTES OR',\n",
       " 'SERV_CODE_DESCRP_HOSPITAL DISCHARGE DAY MANAGEMENT; MORE THEN 30',\n",
       " 'SERV_CODE_DESCRP_Home care services requires expanded problem focused interval history, expanded problem focused examination low complexity medical decision making average time 25 minutes ,established patient',\n",
       " 'SERV_CODE_DESCRP_INPATIENT CONSULTATION/COMPREHENSIVE',\n",
       " 'SERV_CODE_DESCRP_INPATIENT CONSULTATION/DETAILED',\n",
       " 'SERV_CODE_DESCRP_Individual Psychotherapy, 45 min.',\n",
       " 'SERV_CODE_DESCRP_Individual Psychotherapy, 60 min.',\n",
       " 'SERV_CODE_DESCRP_Initial inpatient hospital care, new or established patient - 50 min',\n",
       " 'SERV_CODE_DESCRP_Initial inpatient hospital care, new or established patient - 70 min',\n",
       " 'SERV_CODE_DESCRP_Medication training and support, per 15 minutes',\n",
       " 'SERV_CODE_DESCRP_Mental Health Service plan developed by non physician',\n",
       " 'SERV_CODE_DESCRP_Mental health assessment, by non-Physician',\n",
       " 'SERV_CODE_DESCRP_Mental health clubhouse services, per 15 minutes',\n",
       " 'SERV_CODE_DESCRP_NUROLOGICAL TESTING',\n",
       " 'SERV_CODE_DESCRP_New Patient office or other outpatient visit - 10 min',\n",
       " 'SERV_CODE_DESCRP_New Patient office or other outpatient visit - 20 min',\n",
       " 'SERV_CODE_DESCRP_New Patient office or other outpatient visit - 30 min',\n",
       " 'SERV_CODE_DESCRP_New Patient office or other outpatient visit - 45 min',\n",
       " 'SERV_CODE_DESCRP_New Patient office or other outpatient visit - 60 min',\n",
       " 'SERV_CODE_DESCRP_Oral medication administration, direct observation',\n",
       " 'SERV_CODE_DESCRP_PARTIAL HOSPITALIZATION',\n",
       " 'SERV_CODE_DESCRP_Performance measurement, evaluation of patient self-assessment, depression',\n",
       " 'SERV_CODE_DESCRP_Personal care services, per 15 minutes, part of the individualized plan of treatment.    Provision of daily living needs including hydration, nutrition, cleanliness and toiletries for client',\n",
       " 'SERV_CODE_DESCRP_Physical Assessment of detoxification progression including vital signs monitoring.  Tx plan development or modification',\n",
       " 'SERV_CODE_DESCRP_Psychiatric diagnostic evaluation (with medical services)',\n",
       " 'SERV_CODE_DESCRP_Psychoeducational Services per 15 min.',\n",
       " 'SERV_CODE_DESCRP_Psychological Testing per hour of psychologist or physcian time, face to face or preparing report',\n",
       " 'SERV_CODE_DESCRP_Psychosocial rehabilitation services, per 15 minutes',\n",
       " 'SERV_CODE_DESCRP_Psychotherapy for crisis first 60 minutes',\n",
       " 'SERV_CODE_DESCRP_Psychotherapy, 30 minutes',\n",
       " 'SERV_CODE_DESCRP_Pyschiatric Diagnostic Evaluation (no medical services)',\n",
       " 'SERV_CODE_DESCRP_RESPITE',\n",
       " 'SERV_CODE_DESCRP_RESPITE CARE LEVEL C',\n",
       " 'SERV_CODE_DESCRP_Rest Home, Boarding Home, Custodial Care, New Patient - 15 min',\n",
       " 'SERV_CODE_DESCRP_Rest Home, Boarding Home, Custodial Care, New Patient - 20 min',\n",
       " 'SERV_CODE_DESCRP_Rest Home, Boarding Home, Custodial Care, New Patient - 25 min',\n",
       " 'SERV_CODE_DESCRP_Rest Home, Boarding Home, Custodial Care, New Patient - 30 min',\n",
       " 'SERV_CODE_DESCRP_Rest Home, Boarding Home, Custodial Care, New Patient - 40 min',\n",
       " 'SERV_CODE_DESCRP_Rest Home, Boarding Home, Custodial Care, New Patient - 45 min',\n",
       " 'SERV_CODE_DESCRP_Rest Home, Boarding Home, Custodial Care, New Patient - 60 min',\n",
       " 'SERV_CODE_DESCRP_Rest Home, Boarding Home, Custodial Care, New Patient - 75 min',\n",
       " 'SERV_CODE_DESCRP_Screening to determine the appropriateness of consideration of an individual for participation in a specified program, project, or treatment protocol, per encounter.  Level of motivation assessment for treatment evaluation.',\n",
       " 'SERV_CODE_DESCRP_Self-Help/peer services, per 15 minutes',\n",
       " 'SERV_CODE_DESCRP_Skills training and development, per 15 minutes',\n",
       " 'SERV_CODE_DESCRP_Smoking cessation classes, non-Physician provider, per session',\n",
       " 'SERV_CODE_DESCRP_Subsequent Nursing Facility Care, new or established patient - high complexity 35 min',\n",
       " 'SERV_CODE_DESCRP_Subsequent Nursing Facility Care, new or established patient - low complexity 15 min',\n",
       " 'SERV_CODE_DESCRP_Subsequent Nursing Facility Care, new or established patient - medium complexity 25 min',\n",
       " 'SERV_CODE_DESCRP_Subsequent hospital care, new or established patient - 15 min',\n",
       " 'SERV_CODE_DESCRP_Subsequent hospital care, new or established patient - 25 min',\n",
       " 'SERV_CODE_DESCRP_Subsequent hospital care, new or established patient - 35 min',\n",
       " 'SERV_CODE_DESCRP_Supported employment, per 15 minutes',\n",
       " 'SERV_CODE_DESCRP_Targeted case management, each 15 minutes',\n",
       " 'SERV_CODE_DESCRP_Telephone evaluation and management service provided by a physician to an established patient, parent, or guardian; 11-20 minutes',\n",
       " 'SERV_CODE_DESCRP_Telephone evaluation and management service provided by a physician to an established patient, parent, or guardian; 21-30 minutes',\n",
       " 'SERV_CODE_DESCRP_Therapeutic or diagnostic injection (specify substance or drug); subcutaneous or intramuscular.',\n",
       " 'SERV_CODE_DESCRP_UNSKILLED RESPITE CARE PER DIEM',\n",
       " 'SERV_CODE_DESCRP_Unskilled Respite',\n",
       " 'SERV_CODE_DESCRP_VOCATIONAL SERVICES',\n",
       " 'SERV_CODE_DESCRP_interactive complexity add-on code',\n",
       " 'MEDICAID_ELIG_CAT_ADULT',\n",
       " 'MEDICAID_ELIG_CAT_AwDC',\n",
       " 'MEDICAID_ELIG_CAT_CHILD',\n",
       " 'MEDICAID_ELIG_CAT_DISABLED',\n",
       " 'MEDICAID_ELIG_CAT_ELDERLY',\n",
       " 'MEDICAID_ELIG_CAT_FOSTER CARE',\n",
       " 'MEDICAID_ELIG_CAT_OTHER',\n",
       " 'MBR_PRIMARY_LANGUAGE_ENGLISH',\n",
       " 'MBR_PRIMARY_LANGUAGE_PERSIAN',\n",
       " 'MBR_PRIMARY_LANGUAGE_RUSSIAN',\n",
       " 'MBR_PRIMARY_LANGUAGE_SIGN LANGUAGE',\n",
       " 'MBR_PRIMARY_LANGUAGE_SPANISH',\n",
       " 'MBR_GENDER_Female',\n",
       " 'MBR_GENDER_Male',\n",
       " 'MBR_GENDER_Unknown',\n",
       " 'CCAR_TYPE_1.0',\n",
       " 'CCAR_TYPE_2.0',\n",
       " 'CCAR_TYPE_3.0',\n",
       " 'CCAR_TYPE_7.0',\n",
       " 'DAYS_TO_SERVICE']"
      ]
     },
     "execution_count": 67,
     "metadata": {},
     "output_type": "execute_result"
    }
   ],
   "source": [
    "list(df2)"
   ]
  },
  {
   "cell_type": "markdown",
   "metadata": {
    "collapsed": true
   },
   "source": [
    "Now let's create a table wiht only the following columns:<br>\n",
    "<li>CLIENT_ID\n",
    "<li>HOUSING\n",
    "<li>LEVEL_OF_FUNCTIONING\n",
    "<li>SYMPTOMS_SERVERITY\n",
    "<li>HOPE\n",
    "<li>MBR_AGE\n",
    "<li>PRV_TYPE_DESC_COMMUNITY MENTAL HEALTH CENTER OR PUB HLTH AGENCY\n",
    "<li>PRV_TYP_DESC_PRACTITIONER\n",
    "<li>SERVICE_TYPE_ATU\n",
    "<li>SERVICE_TYPE_CASE MGT\n",
    "<li>SERVICE_TYPE_OUTPATIENT\n",
    "<li>SERVICE_TYPE_RESIDENTIAL\n",
    "<li>SERVICE_TYPE_RESPITE\n",
    "<li>SERVICE_TYPE_SUD\n",
    "<li>SERVICE_TYPE_VOCATIONAL\n",
    "<li>MEDICAID_ELIG_CAT_ADULT\n",
    "<li>MEDICAID_ELIG_CAT_AwDC\n",
    "<li>MEDICAID_ELIG_CAT_CHILD\n",
    "<li>MEDICAID_ELIG_CAT_DISABLED\n",
    "<li>MEDICAID_ELIG_CAT_ELDERLY\n",
    "<li>MEDICAID_ELIG_CAT_FOSTER CARE\n",
    "<li>MEDICAID_ELIG_CAT_OTHER\n",
    "<li>MBR_PRIMARY_LANGUAGE_ENGLISH\n",
    "<li>MBR_PRIMARY_LANGUAGE_PERSIAN\n",
    "<li>MBR_PRIMARY_LANGUAGE_RUSSIAN\n",
    "<li>MBR_PRIMARY_LANGUAGE_SIGN LANGUAGE\n",
    "<li>MBR_PRIMARY_LANGUAGE_SPANISH\n",
    "<li>MBR_GENDER_Female\n",
    "<li>MBR_GENDER_Male\n",
    "<li>MBR_GENDER_Unknown\n",
    "<li>CCAR_TYPE_1.0\n",
    "<li>CCAR_TYPE_2.0\n",
    "<li>CCAR_TYPE_3.0\n",
    "<li>CCAR_TYPE_7.0\n",
    "<li>DAYS_TO_SERVICE"
   ]
  },
  {
   "cell_type": "code",
   "execution_count": 78,
   "metadata": {
    "collapsed": true
   },
   "outputs": [],
   "source": [
    "cols_of_interest = ['CLIENT_ID','CLAIM','HOUSING','LEVEL_OF_FUNCTIONING','SYMPTOM_SEVERITY','HOPE','MBR_AGE',\n",
    "                    'PRV_TYP_DESC_COMMUNITY MENTAL HEALTH CENTER OR PUB HLTH AGENCY',\n",
    "                    'PRV_TYP_DESC_PRACTITIONER','SERVICE_TYPE_ATU','SERVICE_TYPE_CASE MGT',\n",
    "                    'SERVICE_TYPE_OUTPATIENT','SERVICE_TYPE_RESIDENTIAL','SERVICE_TYPE_RESPITE',\n",
    "                    'SERVICE_TYPE_SUD','SERVICE_TYPE_VOCATIONAL','MEDICAID_ELIG_CAT_ADULT',\n",
    "                    'MEDICAID_ELIG_CAT_AwDC','MEDICAID_ELIG_CAT_CHILD','MEDICAID_ELIG_CAT_DISABLED',\n",
    "                    'MEDICAID_ELIG_CAT_ELDERLY','MEDICAID_ELIG_CAT_FOSTER CARE',\n",
    "                    'MEDICAID_ELIG_CAT_OTHER','MBR_PRIMARY_LANGUAGE_ENGLISH',\n",
    "                    'MBR_PRIMARY_LANGUAGE_PERSIAN','MBR_PRIMARY_LANGUAGE_RUSSIAN',\n",
    "                    'MBR_PRIMARY_LANGUAGE_SIGN LANGUAGE','MBR_PRIMARY_LANGUAGE_SPANISH',\n",
    "                    'MBR_GENDER_Female','MBR_GENDER_Male','MBR_GENDER_Unknown','CCAR_TYPE_1.0',\n",
    "                    'CCAR_TYPE_2.0','CCAR_TYPE_3.0','CCAR_TYPE_7.0','DAYS_TO_SERVICE']"
   ]
  },
  {
   "cell_type": "code",
   "execution_count": 94,
   "metadata": {
    "collapsed": false
   },
   "outputs": [],
   "source": [
    "df3 = df2[cols_of_interest]"
   ]
  },
  {
   "cell_type": "code",
   "execution_count": 95,
   "metadata": {
    "collapsed": true
   },
   "outputs": [],
   "source": [
    "X = df3.drop('CLAIM',axis=1)"
   ]
  },
  {
   "cell_type": "code",
   "execution_count": 96,
   "metadata": {
    "collapsed": true
   },
   "outputs": [],
   "source": [
    "Y = df3.CLAIM"
   ]
  },
  {
   "cell_type": "code",
   "execution_count": 97,
   "metadata": {
    "collapsed": true
   },
   "outputs": [],
   "source": [
    "dt = tree.DecisionTreeClassifier(max_depth=4)"
   ]
  },
  {
   "cell_type": "code",
   "execution_count": 98,
   "metadata": {
    "collapsed": false
   },
   "outputs": [
    {
     "data": {
      "text/plain": [
       "DecisionTreeClassifier(class_weight=None, criterion='gini', max_depth=4,\n",
       "            max_features=None, max_leaf_nodes=None,\n",
       "            min_impurity_split=1e-07, min_samples_leaf=1,\n",
       "            min_samples_split=2, min_weight_fraction_leaf=0.0,\n",
       "            presort=False, random_state=None, splitter='best')"
      ]
     },
     "execution_count": 98,
     "metadata": {},
     "output_type": "execute_result"
    }
   ],
   "source": [
    "dt.fit(X,Y)"
   ]
  },
  {
   "cell_type": "code",
   "execution_count": 99,
   "metadata": {
    "collapsed": false,
    "scrolled": true
   },
   "outputs": [
    {
     "data": {
      "image/png": "[encoded data removed]",
      "text/plain": [
       "<IPython.core.display.Image object>"
      ]
     },
     "execution_count": 99,
     "metadata": {},
     "output_type": "execute_result"
    }
   ],
   "source": [
    "# This code will visualize a decision tree dt, trained with the attributes in X and the class labels in Y\n",
    "dt_feature_names = list(X.columns)\n",
    "dt_target_names = np.array(Y.unique(),dtype=np.string_) \n",
    "tree.export_graphviz(dt, out_file='tree.dot', \n",
    "    feature_names=dt_feature_names, class_names=dt_target_names,\n",
    "    filled=True)  \n",
    "graph = pydotplus.graph_from_dot_file('tree.dot')\n",
    "Image(graph.create_png())"
   ]
  },
  {
   "cell_type": "code",
   "execution_count": null,
   "metadata": {
    "collapsed": true
   },
   "outputs": [],
   "source": [
    "cols_of_interest2 = ['MBR_GENDER_MALE',]"
   ]
  },
  {
   "cell_type": "code",
   "execution_count": null,
   "metadata": {
    "collapsed": true
   },
   "outputs": [],
   "source": [
    "df5 = df2[cols_of_interest2]"
   ]
  }
 ],
 "metadata": {
  "kernelspec": {
   "display_name": "Python 2",
   "language": "python",
   "name": "python2"
  },
  "language_info": {
   "codemirror_mode": {
    "name": "ipython",
    "version": 2
   },
   "file_extension": ".py",
   "mimetype": "text/x-python",
   "name": "python",
   "nbconvert_exporter": "python",
   "pygments_lexer": "ipython2",
   "version": "2.7.10"
  }
 },
 "nbformat": 4,
 "nbformat_minor": 0
}
